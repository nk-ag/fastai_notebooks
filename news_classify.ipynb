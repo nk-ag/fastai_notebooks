{
 "cells": [
  {
   "cell_type": "code",
   "execution_count": 0,
   "metadata": {
    "colab": {
     "base_uri": "https://localhost:8080/",
     "height": 122
    },
    "colab_type": "code",
    "id": "p9gYXTAk4XeL",
    "outputId": "4a953b8f-f53d-498e-d16e-6cd688e288ca"
   },
   "outputs": [
    {
     "name": "stdout",
     "output_type": "stream",
     "text": [
      "Go to this URL in a browser: https://accounts.google.com/o/oauth2/auth?client_id=947318989803-6bn6qk8qdgf4n4g3pfee6491hc0brc4i.apps.googleusercontent.com&redirect_uri=urn%3Aietf%3Awg%3Aoauth%3A2.0%3Aoob&scope=email%20https%3A%2F%2Fwww.googleapis.com%2Fauth%2Fdocs.test%20https%3A%2F%2Fwww.googleapis.com%2Fauth%2Fdrive%20https%3A%2F%2Fwww.googleapis.com%2Fauth%2Fdrive.photos.readonly%20https%3A%2F%2Fwww.googleapis.com%2Fauth%2Fpeopleapi.readonly&response_type=code\n",
      "\n",
      "Enter your authorization code:\n",
      "··········\n",
      "Mounted at /content/drive\n"
     ]
    }
   ],
   "source": [
    "# Run this cell to mount your Google Drive.\n",
    "from google.colab import drive\n",
    "drive.mount('/content/drive')"
   ]
  },
  {
   "cell_type": "code",
   "execution_count": 0,
   "metadata": {
    "colab": {
     "base_uri": "https://localhost:8080/",
     "height": 85
    },
    "colab_type": "code",
    "id": "59M7b1JA4-XD",
    "outputId": "d41e56ec-9042-4319-dd63-a5a54a423d14"
   },
   "outputs": [
    {
     "name": "stdout",
     "output_type": "stream",
     "text": [
      "Archive:  ./drive/My Drive/nlp/NLP.zip\n",
      "  inflating: news_test.json          \n",
      "  inflating: news_train.json         \n",
      "  inflating: samplesubmissionNLP.csv  \n"
     ]
    }
   ],
   "source": [
    "!unzip './drive/My Drive/nlp/NLP.zip'"
   ]
  },
  {
   "cell_type": "markdown",
   "metadata": {
    "colab_type": "text",
    "id": "0eF0NNHpKFMr"
   },
   "source": [
    "unzip the file from the drive to colab workspace"
   ]
  },
  {
   "cell_type": "code",
   "execution_count": 0,
   "metadata": {
    "colab": {},
    "colab_type": "code",
    "id": "6GjsAqtD7cO8"
   },
   "outputs": [],
   "source": [
    "\n",
    "train_f=open('news_train.json','r')"
   ]
  },
  {
   "cell_type": "code",
   "execution_count": 0,
   "metadata": {
    "colab": {},
    "colab_type": "code",
    "id": "g3ks3bbx7pj1"
   },
   "outputs": [],
   "source": [
    "\n",
    "from pathlib import Path\n",
    "p=Path('.')\n"
   ]
  },
  {
   "cell_type": "code",
   "execution_count": 0,
   "metadata": {
    "colab": {},
    "colab_type": "code",
    "id": "7pdHBV7U-eS_"
   },
   "outputs": [],
   "source": [
    "%reload_ext autoreload \n",
    "%autoreload 2\n",
    "%matplotlib inline"
   ]
  },
  {
   "cell_type": "code",
   "execution_count": 0,
   "metadata": {
    "colab": {},
    "colab_type": "code",
    "id": "nnwVvSpE-iOP"
   },
   "outputs": [],
   "source": [
    "from fastai.text import *"
   ]
  },
  {
   "cell_type": "code",
   "execution_count": 0,
   "metadata": {
    "colab": {},
    "colab_type": "code",
    "id": "NdqtDKfN-Q3h"
   },
   "outputs": [],
   "source": [
    "df=pd.read_json('news_train.json',lines=True)"
   ]
  },
  {
   "cell_type": "markdown",
   "metadata": {
    "colab_type": "text",
    "id": "hNbLMcjWK2L1"
   },
   "source": [
    "use pandas to read the json file"
   ]
  },
  {
   "cell_type": "code",
   "execution_count": 0,
   "metadata": {
    "colab": {
     "base_uri": "https://localhost:8080/",
     "height": 700
    },
    "colab_type": "code",
    "id": "5V4qTWEp-lI-",
    "outputId": "fc263801-d8bc-4ed7-f9b0-b6526a598cb2"
   },
   "outputs": [
    {
     "data": {
      "text/html": [
       "<div>\n",
       "<style scoped>\n",
       "    .dataframe tbody tr th:only-of-type {\n",
       "        vertical-align: middle;\n",
       "    }\n",
       "\n",
       "    .dataframe tbody tr th {\n",
       "        vertical-align: top;\n",
       "    }\n",
       "\n",
       "    .dataframe thead th {\n",
       "        text-align: right;\n",
       "    }\n",
       "</style>\n",
       "<table border=\"1\" class=\"dataframe\">\n",
       "  <thead>\n",
       "    <tr style=\"text-align: right;\">\n",
       "      <th></th>\n",
       "      <th>authors</th>\n",
       "      <th>category</th>\n",
       "      <th>date</th>\n",
       "      <th>headline</th>\n",
       "      <th>link</th>\n",
       "      <th>short_description</th>\n",
       "    </tr>\n",
       "  </thead>\n",
       "  <tbody>\n",
       "    <tr>\n",
       "      <th>0</th>\n",
       "      <td>Melissa Jeltsen</td>\n",
       "      <td>CRIME</td>\n",
       "      <td>2018-05-26</td>\n",
       "      <td>There Were 2 Mass Shootings In Texas Last Week...</td>\n",
       "      <td>https://www.huffingtonpost.com/entry/texas-ama...</td>\n",
       "      <td>She left her husband. He killed their children...</td>\n",
       "    </tr>\n",
       "    <tr>\n",
       "      <th>1</th>\n",
       "      <td>Andy McDonald</td>\n",
       "      <td>ENTERTAINMENT</td>\n",
       "      <td>2018-05-26</td>\n",
       "      <td>Will Smith Joins Diplo And Nicky Jam For The 2...</td>\n",
       "      <td>https://www.huffingtonpost.com/entry/will-smit...</td>\n",
       "      <td>Of course it has a song.</td>\n",
       "    </tr>\n",
       "    <tr>\n",
       "      <th>2</th>\n",
       "      <td>Ron Dicker</td>\n",
       "      <td>ENTERTAINMENT</td>\n",
       "      <td>2018-05-26</td>\n",
       "      <td>Hugh Grant Marries For The First Time At Age 57</td>\n",
       "      <td>https://www.huffingtonpost.com/entry/hugh-gran...</td>\n",
       "      <td>The actor and his longtime girlfriend Anna Ebe...</td>\n",
       "    </tr>\n",
       "    <tr>\n",
       "      <th>3</th>\n",
       "      <td>Ron Dicker</td>\n",
       "      <td>ENTERTAINMENT</td>\n",
       "      <td>2018-05-26</td>\n",
       "      <td>Jim Carrey Blasts 'Castrato' Adam Schiff And D...</td>\n",
       "      <td>https://www.huffingtonpost.com/entry/jim-carre...</td>\n",
       "      <td>The actor gives Dems an ass-kicking for not fi...</td>\n",
       "    </tr>\n",
       "    <tr>\n",
       "      <th>4</th>\n",
       "      <td>Ron Dicker</td>\n",
       "      <td>ENTERTAINMENT</td>\n",
       "      <td>2018-05-26</td>\n",
       "      <td>Julianna Margulies Uses Donald Trump Poop Bags...</td>\n",
       "      <td>https://www.huffingtonpost.com/entry/julianna-...</td>\n",
       "      <td>The \"Dietland\" actress said using the bags is ...</td>\n",
       "    </tr>\n",
       "  </tbody>\n",
       "</table>\n",
       "</div>"
      ],
      "text/plain": [
       "           authors  ...                                  short_description\n",
       "0  Melissa Jeltsen  ...  She left her husband. He killed their children...\n",
       "1    Andy McDonald  ...                           Of course it has a song.\n",
       "2       Ron Dicker  ...  The actor and his longtime girlfriend Anna Ebe...\n",
       "3       Ron Dicker  ...  The actor gives Dems an ass-kicking for not fi...\n",
       "4       Ron Dicker  ...  The \"Dietland\" actress said using the bags is ...\n",
       "\n",
       "[5 rows x 6 columns]"
      ]
     },
     "execution_count": 22,
     "metadata": {
      "tags": []
     },
     "output_type": "execute_result"
    }
   ],
   "source": [
    "df.head() #by default prints the first 5  lines of dataset"
   ]
  },
  {
   "cell_type": "code",
   "execution_count": 0,
   "metadata": {
    "colab": {
     "base_uri": "https://localhost:8080/",
     "height": 748
    },
    "colab_type": "code",
    "id": "tNqgqnxwAPoG",
    "outputId": "ecddadc1-4959-4268-fb0f-f598cfb4bffe"
   },
   "outputs": [
    {
     "name": "stdout",
     "output_type": "stream",
     "text": [
      "category\n",
      "ARTS               1509\n",
      "ARTS & CULTURE     1339\n",
      "BLACK VOICES       4225\n",
      "BUSINESS           5268\n",
      "COLLEGE            1144\n",
      "COMEDY             4584\n",
      "CRIME              3206\n",
      "CULTURE & ARTS      695\n",
      "DIVORCE            2195\n",
      "EDUCATION          1004\n",
      "ENTERTAINMENT     15496\n",
      "ENVIRONMENT         847\n",
      "FIFTY              1401\n",
      "FOOD & DRINK       4428\n",
      "GOOD NEWS          1398\n",
      "GREEN              2622\n",
      "HEALTHY LIVING     6694\n",
      "HOME & LIVING      2610\n",
      "IMPACT             3131\n",
      "LATINO VOICES      1129\n",
      "MEDIA              2815\n",
      "MONEY               273\n",
      "PARENTING          5599\n",
      "PARENTS            3955\n",
      "POLITICS          32739\n",
      "QUEER VOICES       5852\n",
      "RELIGION           2556\n",
      "SCIENCE            1836\n",
      "SPORTS             4622\n",
      "STYLE              2254\n",
      "STYLE & BEAUTY     4527\n",
      "TASTE              2096\n",
      "TECH               1648\n",
      "THE WORLDPOST      3664\n",
      "TRAVEL             6706\n",
      "WEDDINGS           2179\n",
      "WEIRD NEWS         2670\n",
      "WELLNESS          10837\n",
      "WOMEN              3490\n",
      "WORLD NEWS         2177\n",
      "WORLDPOST          2579\n",
      "dtype: int64\n"
     ]
    }
   ],
   "source": [
    "classes=df.groupby('category')\n",
    "print(classes.size()) #look at the categories and sizes of each"
   ]
  },
  {
   "cell_type": "code",
   "execution_count": 0,
   "metadata": {
    "colab": {},
    "colab_type": "code",
    "id": "jeeQUI8NBnJX"
   },
   "outputs": [],
   "source": [
    "df.category = df.category.map(lambda x: \"WORLDPOST\" if x == \"THE WORLDPOST\" else x)"
   ]
  },
  {
   "cell_type": "code",
   "execution_count": 0,
   "metadata": {
    "colab": {},
    "colab_type": "code",
    "id": "HkBA_vuPB7VN"
   },
   "outputs": [],
   "source": [
    "df.category = df.category.map(lambda x: \"GREEN\" if x == \"ENVIRONMENT\" else x)"
   ]
  },
  {
   "cell_type": "code",
   "execution_count": 0,
   "metadata": {
    "colab": {},
    "colab_type": "code",
    "id": "HLRPJZFdB7-X"
   },
   "outputs": [],
   "source": [
    "df.category = df.category.map(lambda x: \"PARENTS\" if x == \"PARENTING\" else x)"
   ]
  },
  {
   "cell_type": "markdown",
   "metadata": {
    "colab_type": "text",
    "id": "73iBHKihLO9o"
   },
   "source": [
    "merging the similar categories as mentioned in the prob statement"
   ]
  },
  {
   "cell_type": "code",
   "execution_count": 0,
   "metadata": {
    "colab": {
     "base_uri": "https://localhost:8080/",
     "height": 697
    },
    "colab_type": "code",
    "id": "u-vFF4L5CSfK",
    "outputId": "57c883c3-9b8a-4a79-f710-4f198745fa33"
   },
   "outputs": [
    {
     "name": "stdout",
     "output_type": "stream",
     "text": [
      "category\n",
      "ARTS               1509\n",
      "ARTS & CULTURE     1339\n",
      "BLACK VOICES       4225\n",
      "BUSINESS           5268\n",
      "COLLEGE            1144\n",
      "COMEDY             4584\n",
      "CRIME              3206\n",
      "CULTURE & ARTS      695\n",
      "DIVORCE            2195\n",
      "EDUCATION          1004\n",
      "ENTERTAINMENT     15496\n",
      "FIFTY              1401\n",
      "FOOD & DRINK       4428\n",
      "GOOD NEWS          1398\n",
      "GREEN              3469\n",
      "HEALTHY LIVING     6694\n",
      "HOME & LIVING      2610\n",
      "IMPACT             3131\n",
      "LATINO VOICES      1129\n",
      "MEDIA              2815\n",
      "MONEY               273\n",
      "PARENTS            9554\n",
      "POLITICS          32739\n",
      "QUEER VOICES       5852\n",
      "RELIGION           2556\n",
      "SCIENCE            1836\n",
      "SPORTS             4622\n",
      "STYLE              2254\n",
      "STYLE & BEAUTY     4527\n",
      "TASTE              2096\n",
      "TECH               1648\n",
      "TRAVEL             6706\n",
      "WEDDINGS           2179\n",
      "WEIRD NEWS         2670\n",
      "WELLNESS          10837\n",
      "WOMEN              3490\n",
      "WORLD NEWS         2177\n",
      "WORLDPOST          6243\n",
      "dtype: int64\n"
     ]
    }
   ],
   "source": [
    "classes=df.groupby('category')\n",
    "print(classes.size())"
   ]
  },
  {
   "cell_type": "code",
   "execution_count": 0,
   "metadata": {
    "colab": {},
    "colab_type": "code",
    "id": "bJRws9h0Eb9y"
   },
   "outputs": [],
   "source": [
    "df['text']=df.headline+' '+df.short_description"
   ]
  },
  {
   "cell_type": "markdown",
   "metadata": {
    "colab_type": "text",
    "id": "Db20lgVALYLf"
   },
   "source": [
    "we will be training our model using the headline and short description given in the json file-- so make a new entry of 'text' "
   ]
  },
  {
   "cell_type": "code",
   "execution_count": 0,
   "metadata": {
    "colab": {
     "base_uri": "https://localhost:8080/",
     "height": 717
    },
    "colab_type": "code",
    "id": "xolQYDb4Emp_",
    "outputId": "7358732e-3293-4252-e0b1-af6f95f6ebb0"
   },
   "outputs": [
    {
     "data": {
      "text/html": [
       "<div>\n",
       "<style scoped>\n",
       "    .dataframe tbody tr th:only-of-type {\n",
       "        vertical-align: middle;\n",
       "    }\n",
       "\n",
       "    .dataframe tbody tr th {\n",
       "        vertical-align: top;\n",
       "    }\n",
       "\n",
       "    .dataframe thead th {\n",
       "        text-align: right;\n",
       "    }\n",
       "</style>\n",
       "<table border=\"1\" class=\"dataframe\">\n",
       "  <thead>\n",
       "    <tr style=\"text-align: right;\">\n",
       "      <th></th>\n",
       "      <th>authors</th>\n",
       "      <th>category</th>\n",
       "      <th>date</th>\n",
       "      <th>headline</th>\n",
       "      <th>link</th>\n",
       "      <th>short_description</th>\n",
       "      <th>text</th>\n",
       "    </tr>\n",
       "  </thead>\n",
       "  <tbody>\n",
       "    <tr>\n",
       "      <th>0</th>\n",
       "      <td>Melissa Jeltsen</td>\n",
       "      <td>CRIME</td>\n",
       "      <td>2018-05-26</td>\n",
       "      <td>There Were 2 Mass Shootings In Texas Last Week...</td>\n",
       "      <td>https://www.huffingtonpost.com/entry/texas-ama...</td>\n",
       "      <td>She left her husband. He killed their children...</td>\n",
       "      <td>There Were 2 Mass Shootings In Texas Last Week...</td>\n",
       "    </tr>\n",
       "    <tr>\n",
       "      <th>1</th>\n",
       "      <td>Andy McDonald</td>\n",
       "      <td>ENTERTAINMENT</td>\n",
       "      <td>2018-05-26</td>\n",
       "      <td>Will Smith Joins Diplo And Nicky Jam For The 2...</td>\n",
       "      <td>https://www.huffingtonpost.com/entry/will-smit...</td>\n",
       "      <td>Of course it has a song.</td>\n",
       "      <td>Will Smith Joins Diplo And Nicky Jam For The 2...</td>\n",
       "    </tr>\n",
       "    <tr>\n",
       "      <th>2</th>\n",
       "      <td>Ron Dicker</td>\n",
       "      <td>ENTERTAINMENT</td>\n",
       "      <td>2018-05-26</td>\n",
       "      <td>Hugh Grant Marries For The First Time At Age 57</td>\n",
       "      <td>https://www.huffingtonpost.com/entry/hugh-gran...</td>\n",
       "      <td>The actor and his longtime girlfriend Anna Ebe...</td>\n",
       "      <td>Hugh Grant Marries For The First Time At Age 5...</td>\n",
       "    </tr>\n",
       "    <tr>\n",
       "      <th>3</th>\n",
       "      <td>Ron Dicker</td>\n",
       "      <td>ENTERTAINMENT</td>\n",
       "      <td>2018-05-26</td>\n",
       "      <td>Jim Carrey Blasts 'Castrato' Adam Schiff And D...</td>\n",
       "      <td>https://www.huffingtonpost.com/entry/jim-carre...</td>\n",
       "      <td>The actor gives Dems an ass-kicking for not fi...</td>\n",
       "      <td>Jim Carrey Blasts 'Castrato' Adam Schiff And D...</td>\n",
       "    </tr>\n",
       "    <tr>\n",
       "      <th>4</th>\n",
       "      <td>Ron Dicker</td>\n",
       "      <td>ENTERTAINMENT</td>\n",
       "      <td>2018-05-26</td>\n",
       "      <td>Julianna Margulies Uses Donald Trump Poop Bags...</td>\n",
       "      <td>https://www.huffingtonpost.com/entry/julianna-...</td>\n",
       "      <td>The \"Dietland\" actress said using the bags is ...</td>\n",
       "      <td>Julianna Margulies Uses Donald Trump Poop Bags...</td>\n",
       "    </tr>\n",
       "  </tbody>\n",
       "</table>\n",
       "</div>"
      ],
      "text/plain": [
       "           authors  ...                                               text\n",
       "0  Melissa Jeltsen  ...  There Were 2 Mass Shootings In Texas Last Week...\n",
       "1    Andy McDonald  ...  Will Smith Joins Diplo And Nicky Jam For The 2...\n",
       "2       Ron Dicker  ...  Hugh Grant Marries For The First Time At Age 5...\n",
       "3       Ron Dicker  ...  Jim Carrey Blasts 'Castrato' Adam Schiff And D...\n",
       "4       Ron Dicker  ...  Julianna Margulies Uses Donald Trump Poop Bags...\n",
       "\n",
       "[5 rows x 7 columns]"
      ]
     },
     "execution_count": 29,
     "metadata": {
      "tags": []
     },
     "output_type": "execute_result"
    }
   ],
   "source": [
    "df.head() #look at first 5 rows"
   ]
  },
  {
   "cell_type": "code",
   "execution_count": 0,
   "metadata": {
    "colab": {},
    "colab_type": "code",
    "id": "hYZ84jiJMca9"
   },
   "outputs": [],
   "source": [
    "text=df['text']"
   ]
  },
  {
   "cell_type": "code",
   "execution_count": 0,
   "metadata": {
    "colab": {},
    "colab_type": "code",
    "id": "65IV-nxpMjr-"
   },
   "outputs": [],
   "source": [
    "catg=df['category']"
   ]
  },
  {
   "cell_type": "code",
   "execution_count": 0,
   "metadata": {
    "colab": {},
    "colab_type": "code",
    "id": "mRFyj1FmHucE"
   },
   "outputs": [],
   "source": [
    "data=(TextList.from_df(df,cols=['text'])\n",
    "     .split_by_rand_pct(valid_pct=0.1)\n",
    "     .label_from_df(cols=['category'])\n",
    "     .databunch())\n"
   ]
  },
  {
   "cell_type": "markdown",
   "metadata": {
    "colab_type": "text",
    "id": "jc_uQT0_Lxln"
   },
   "source": [
    "make the text databunch using the data block api-- we use from_df-- for the pandas df we made and we specify the col 'text' to be used as data\n",
    "\n",
    "split into validation set from this data(10 percent)\n",
    "\n",
    "label from the 'category'"
   ]
  },
  {
   "cell_type": "code",
   "execution_count": 0,
   "metadata": {
    "colab": {
     "base_uri": "https://localhost:8080/",
     "height": 629
    },
    "colab_type": "code",
    "id": "7WA9ZIJjSA2X",
    "outputId": "3174fe1d-2f05-43ce-fe7c-65d5bc0d7d2e"
   },
   "outputs": [
    {
     "data": {
      "text/html": [
       "<table border=\"1\" class=\"dataframe\">\n",
       "  <thead>\n",
       "    <tr style=\"text-align: right;\">\n",
       "      <th>text</th>\n",
       "      <th>target</th>\n",
       "    </tr>\n",
       "  </thead>\n",
       "  <tbody>\n",
       "    <tr>\n",
       "      <td>xxbos xxmaj sunday xxmaj roundup xxmaj this week the nation watched as the # nevertrump movement folded faster than one of the presumptive nominee 's beachfront developments . xxmaj as many tried to explain away xxmaj trump 's reckless , racist extremism , a few put principle over party . xxmaj the wife of former xxmaj republican xxmaj senator xxmaj bob xxmaj bennett , who died on xxmaj may 4</td>\n",
       "      <td>POLITICS</td>\n",
       "    </tr>\n",
       "    <tr>\n",
       "      <td>xxbos xxmaj disconnect : a xxmaj new xxmaj movie xxmaj sounds xxmaj the xxmaj alarm xxmaj about xxmaj our xxmaj hyper - xxmaj connected xxmaj lives xxmaj in the xxunk , xxmaj benjamin xxmaj xxunk , still a long way from being prime minister , wanted to wake people up to the plight of the xxmaj british working class . xxmaj the alarm he sounded was n't delivered in a</td>\n",
       "      <td>WELLNESS</td>\n",
       "    </tr>\n",
       "    <tr>\n",
       "      <td>xxbos xxmaj mommy xxmaj confidential : xxmaj soleil xxmaj moon xxmaj frye xxmaj reveals xxmaj her ' xxmaj aha ' xxmaj mom xxmaj moment , the xxmaj one xxmaj item xxmaj always in xxmaj her xxmaj bag and the xxmaj art of xxmaj imperfect xxmaj parenting xxmaj xxunk xxmaj moon xxmaj frye may be remembered by millions for her role as xxup tv 's iconic xxmaj xxunk xxmaj xxunk ,</td>\n",
       "      <td>PARENTS</td>\n",
       "    </tr>\n",
       "    <tr>\n",
       "      <td>xxbos xxmaj weekend xxmaj roundup : xxmaj mutiny xxmaj against the xxmaj status xxmaj quo xxmaj at this stage in the xxmaj american election season it is far from clear , despite early wins and losses , who the presidential nominees will be . xxmaj as xxmaj julian xxmaj xxunk writes , what is certain is that xxmaj america , like much of xxmaj europe , is experiencing a mutiny</td>\n",
       "      <td>WORLDPOST</td>\n",
       "    </tr>\n",
       "    <tr>\n",
       "      <td>xxbos xxmaj the xxmaj latest xxmaj assault on the xxmaj affordable xxmaj care xxmaj act : xxmaj an xxup hiv - xxmaj positive , 34-year - xxmaj old xxmaj man 's xxmaj perspective i would not be here today if it was n't for the free , quality health care i was given in the form of xxmaj medicaid . i support the xxup aca and i advocate for a</td>\n",
       "      <td>QUEER VOICES</td>\n",
       "    </tr>\n",
       "  </tbody>\n",
       "</table>"
      ],
      "text/plain": [
       "<IPython.core.display.HTML object>"
      ]
     },
     "metadata": {
      "tags": []
     },
     "output_type": "display_data"
    }
   ],
   "source": [
    "data.show_batch() #look at the data"
   ]
  },
  {
   "cell_type": "markdown",
   "metadata": {
    "colab_type": "text",
    "id": "gceeoTArO7SI"
   },
   "source": [
    "the data has been tokenized and numericalized\n",
    "\n",
    "Tokenization-\n",
    "contractions like 'didnt' separated to two words,\n",
    "all lower case letters, several special tokens(xx...)\n",
    "\n",
    "Numericalisation-\n",
    "text converted to intergers by creating a list of all words used(vocab)-- with ones appearing at least twice-- with max vocab size of 60,000 and those which do not get included are replaced by xx"
   ]
  },
  {
   "cell_type": "code",
   "execution_count": 0,
   "metadata": {
    "colab": {},
    "colab_type": "code",
    "id": "SygF5iXnPsco"
   },
   "outputs": [],
   "source": [
    "data.save('lmdata.pkl')"
   ]
  },
  {
   "cell_type": "code",
   "execution_count": 0,
   "metadata": {
    "colab": {},
    "colab_type": "code",
    "id": "-OjYkAhjOPqB"
   },
   "outputs": [],
   "source": [
    "data=load_data(p,'lmdata.pkl',bs=48)"
   ]
  },
  {
   "cell_type": "code",
   "execution_count": 0,
   "metadata": {
    "colab": {},
    "colab_type": "code",
    "id": "_ll5QzTQP1yG"
   },
   "outputs": [],
   "source": [
    "from google.colab import files\n",
    "files.download(p/'lmdata.pkl')"
   ]
  },
  {
   "cell_type": "code",
   "execution_count": 0,
   "metadata": {
    "colab": {},
    "colab_type": "code",
    "id": "IZuJWU3jQ4YD"
   },
   "outputs": [],
   "source": [
    "dftst=pd.read_json('news_test.json',lines=True) #read test json also using pandas dataframe"
   ]
  },
  {
   "cell_type": "code",
   "execution_count": 0,
   "metadata": {
    "colab": {},
    "colab_type": "code",
    "id": "p_-q0aDYRMl9"
   },
   "outputs": [],
   "source": [
    "dftst['text']=dftst.headline+' '+dftst.short_description"
   ]
  },
  {
   "cell_type": "markdown",
   "metadata": {
    "colab_type": "text",
    "id": "I1tq9a2mNOLR"
   },
   "source": [
    "for our language model we use  the text given in both the test and train datasets to increase accuracy by widening the dataset. "
   ]
  },
  {
   "cell_type": "code",
   "execution_count": 0,
   "metadata": {
    "colab": {
     "base_uri": "https://localhost:8080/",
     "height": 1000
    },
    "colab_type": "code",
    "id": "sZK9JWFVRvtG",
    "outputId": "ddbd8b1c-deb8-4859-d410-028a34134278"
   },
   "outputs": [
    {
     "name": "stderr",
     "output_type": "stream",
     "text": [
      "/usr/local/lib/python3.6/dist-packages/pandas/core/frame.py:6692: FutureWarning: Sorting because non-concatenation axis is not aligned. A future version\n",
      "of pandas will change to not sort by default.\n",
      "\n",
      "To accept the future behavior, pass 'sort=False'.\n",
      "\n",
      "To retain the current behavior and silence the warning, pass 'sort=True'.\n",
      "\n",
      "  sort=sort)\n"
     ]
    },
    {
     "data": {
      "text/html": [
       "<div>\n",
       "<style scoped>\n",
       "    .dataframe tbody tr th:only-of-type {\n",
       "        vertical-align: middle;\n",
       "    }\n",
       "\n",
       "    .dataframe tbody tr th {\n",
       "        vertical-align: top;\n",
       "    }\n",
       "\n",
       "    .dataframe thead th {\n",
       "        text-align: right;\n",
       "    }\n",
       "</style>\n",
       "<table border=\"1\" class=\"dataframe\">\n",
       "  <thead>\n",
       "    <tr style=\"text-align: right;\">\n",
       "      <th></th>\n",
       "      <th>authors</th>\n",
       "      <th>category</th>\n",
       "      <th>date</th>\n",
       "      <th>headline</th>\n",
       "      <th>link</th>\n",
       "      <th>short_description</th>\n",
       "      <th>text</th>\n",
       "    </tr>\n",
       "  </thead>\n",
       "  <tbody>\n",
       "    <tr>\n",
       "      <th>0</th>\n",
       "      <td>Melissa Jeltsen</td>\n",
       "      <td>CRIME</td>\n",
       "      <td>2018-05-26</td>\n",
       "      <td>There Were 2 Mass Shootings In Texas Last Week...</td>\n",
       "      <td>https://www.huffingtonpost.com/entry/texas-ama...</td>\n",
       "      <td>She left her husband. He killed their children...</td>\n",
       "      <td>There Were 2 Mass Shootings In Texas Last Week...</td>\n",
       "    </tr>\n",
       "    <tr>\n",
       "      <th>1</th>\n",
       "      <td>Andy McDonald</td>\n",
       "      <td>ENTERTAINMENT</td>\n",
       "      <td>2018-05-26</td>\n",
       "      <td>Will Smith Joins Diplo And Nicky Jam For The 2...</td>\n",
       "      <td>https://www.huffingtonpost.com/entry/will-smit...</td>\n",
       "      <td>Of course it has a song.</td>\n",
       "      <td>Will Smith Joins Diplo And Nicky Jam For The 2...</td>\n",
       "    </tr>\n",
       "    <tr>\n",
       "      <th>2</th>\n",
       "      <td>Ron Dicker</td>\n",
       "      <td>ENTERTAINMENT</td>\n",
       "      <td>2018-05-26</td>\n",
       "      <td>Hugh Grant Marries For The First Time At Age 57</td>\n",
       "      <td>https://www.huffingtonpost.com/entry/hugh-gran...</td>\n",
       "      <td>The actor and his longtime girlfriend Anna Ebe...</td>\n",
       "      <td>Hugh Grant Marries For The First Time At Age 5...</td>\n",
       "    </tr>\n",
       "    <tr>\n",
       "      <th>3</th>\n",
       "      <td>Ron Dicker</td>\n",
       "      <td>ENTERTAINMENT</td>\n",
       "      <td>2018-05-26</td>\n",
       "      <td>Jim Carrey Blasts 'Castrato' Adam Schiff And D...</td>\n",
       "      <td>https://www.huffingtonpost.com/entry/jim-carre...</td>\n",
       "      <td>The actor gives Dems an ass-kicking for not fi...</td>\n",
       "      <td>Jim Carrey Blasts 'Castrato' Adam Schiff And D...</td>\n",
       "    </tr>\n",
       "    <tr>\n",
       "      <th>4</th>\n",
       "      <td>Ron Dicker</td>\n",
       "      <td>ENTERTAINMENT</td>\n",
       "      <td>2018-05-26</td>\n",
       "      <td>Julianna Margulies Uses Donald Trump Poop Bags...</td>\n",
       "      <td>https://www.huffingtonpost.com/entry/julianna-...</td>\n",
       "      <td>The \"Dietland\" actress said using the bags is ...</td>\n",
       "      <td>Julianna Margulies Uses Donald Trump Poop Bags...</td>\n",
       "    </tr>\n",
       "    <tr>\n",
       "      <th>5</th>\n",
       "      <td>Ron Dicker</td>\n",
       "      <td>ENTERTAINMENT</td>\n",
       "      <td>2018-05-26</td>\n",
       "      <td>Morgan Freeman 'Devastated' That Sexual Harass...</td>\n",
       "      <td>https://www.huffingtonpost.com/entry/morgan-fr...</td>\n",
       "      <td>\"It is not right to equate horrific incidents ...</td>\n",
       "      <td>Morgan Freeman 'Devastated' That Sexual Harass...</td>\n",
       "    </tr>\n",
       "    <tr>\n",
       "      <th>6</th>\n",
       "      <td>Ron Dicker</td>\n",
       "      <td>ENTERTAINMENT</td>\n",
       "      <td>2018-05-26</td>\n",
       "      <td>Donald Trump Is Lovin' New McDonald's Jingle I...</td>\n",
       "      <td>https://www.huffingtonpost.com/entry/donald-tr...</td>\n",
       "      <td>It's catchy, all right.</td>\n",
       "      <td>Donald Trump Is Lovin' New McDonald's Jingle I...</td>\n",
       "    </tr>\n",
       "    <tr>\n",
       "      <th>7</th>\n",
       "      <td>Todd Van Luling</td>\n",
       "      <td>ENTERTAINMENT</td>\n",
       "      <td>2018-05-26</td>\n",
       "      <td>What To Watch On Amazon Prime That’s New This ...</td>\n",
       "      <td>https://www.huffingtonpost.com/entry/amazon-pr...</td>\n",
       "      <td>There's a great mini-series joining this week.</td>\n",
       "      <td>What To Watch On Amazon Prime That’s New This ...</td>\n",
       "    </tr>\n",
       "    <tr>\n",
       "      <th>8</th>\n",
       "      <td>Andy McDonald</td>\n",
       "      <td>ENTERTAINMENT</td>\n",
       "      <td>2018-05-26</td>\n",
       "      <td>Mike Myers Reveals He'd 'Like To' Do A Fourth ...</td>\n",
       "      <td>https://www.huffingtonpost.com/entry/mike-myer...</td>\n",
       "      <td>Myer's kids may be pushing for a new \"Powers\" ...</td>\n",
       "      <td>Mike Myers Reveals He'd 'Like To' Do A Fourth ...</td>\n",
       "    </tr>\n",
       "    <tr>\n",
       "      <th>9</th>\n",
       "      <td>Todd Van Luling</td>\n",
       "      <td>ENTERTAINMENT</td>\n",
       "      <td>2018-05-26</td>\n",
       "      <td>What To Watch On Hulu That’s New This Week</td>\n",
       "      <td>https://www.huffingtonpost.com/entry/hulu-what...</td>\n",
       "      <td>You're getting a recent Academy Award-winning ...</td>\n",
       "      <td>What To Watch On Hulu That’s New This Week You...</td>\n",
       "    </tr>\n",
       "    <tr>\n",
       "      <th>10</th>\n",
       "      <td>Sebastian Murdock</td>\n",
       "      <td>ENTERTAINMENT</td>\n",
       "      <td>2018-05-26</td>\n",
       "      <td>Justin Timberlake Visits Texas School Shooting...</td>\n",
       "      <td>https://www.huffingtonpost.com/entry/justin-ti...</td>\n",
       "      <td>The pop star also wore a \"Santa Fe Strong\" shi...</td>\n",
       "      <td>Justin Timberlake Visits Texas School Shooting...</td>\n",
       "    </tr>\n",
       "    <tr>\n",
       "      <th>11</th>\n",
       "      <td></td>\n",
       "      <td>WORLD NEWS</td>\n",
       "      <td>2018-05-26</td>\n",
       "      <td>South Korean President Meets North Korea's Kim...</td>\n",
       "      <td>https://www.huffingtonpost.com/entry/south-kor...</td>\n",
       "      <td>The two met to pave the way for a summit betwe...</td>\n",
       "      <td>South Korean President Meets North Korea's Kim...</td>\n",
       "    </tr>\n",
       "    <tr>\n",
       "      <th>12</th>\n",
       "      <td>Karen Pinchin</td>\n",
       "      <td>IMPACT</td>\n",
       "      <td>2018-05-26</td>\n",
       "      <td>With Its Way Of Life At Risk, This Remote Oyst...</td>\n",
       "      <td>https://www.huffingtonpost.com/entry/remote-oy...</td>\n",
       "      <td>The revolution is coming to rural New Brunswick.</td>\n",
       "      <td>With Its Way Of Life At Risk, This Remote Oyst...</td>\n",
       "    </tr>\n",
       "    <tr>\n",
       "      <th>13</th>\n",
       "      <td>Elise Foley and Roque Planas</td>\n",
       "      <td>POLITICS</td>\n",
       "      <td>2018-05-26</td>\n",
       "      <td>Trump's Crackdown On Immigrant Parents Puts Mo...</td>\n",
       "      <td>https://www.huffingtonpost.com/entry/immigrant...</td>\n",
       "      <td>Last month a Health and Human Services officia...</td>\n",
       "      <td>Trump's Crackdown On Immigrant Parents Puts Mo...</td>\n",
       "    </tr>\n",
       "    <tr>\n",
       "      <th>14</th>\n",
       "      <td>Michael Isikoff, Yahoo News</td>\n",
       "      <td>POLITICS</td>\n",
       "      <td>2018-05-26</td>\n",
       "      <td>'Trump's Son Should Be Concerned': FBI Obtaine...</td>\n",
       "      <td>https://www.huffingtonpost.com/entry/fbi-wiret...</td>\n",
       "      <td>The wiretaps feature conversations between Ale...</td>\n",
       "      <td>'Trump's Son Should Be Concerned': FBI Obtaine...</td>\n",
       "    </tr>\n",
       "    <tr>\n",
       "      <th>15</th>\n",
       "      <td>Mary Papenfuss</td>\n",
       "      <td>POLITICS</td>\n",
       "      <td>2018-05-26</td>\n",
       "      <td>Edward Snowden: There's No One Trump Loves Mor...</td>\n",
       "      <td>https://www.huffingtonpost.com/entry/edward-sn...</td>\n",
       "      <td>But don't count on Robert Mueller to nail him,...</td>\n",
       "      <td>Edward Snowden: There's No One Trump Loves Mor...</td>\n",
       "    </tr>\n",
       "    <tr>\n",
       "      <th>16</th>\n",
       "      <td>Mary Papenfuss</td>\n",
       "      <td>POLITICS</td>\n",
       "      <td>2018-05-26</td>\n",
       "      <td>Booyah: Obama Photographer Hilariously Trolls ...</td>\n",
       "      <td>https://www.huffingtonpost.com/entry/obama-pho...</td>\n",
       "      <td>Just a peeping minute.</td>\n",
       "      <td>Booyah: Obama Photographer Hilariously Trolls ...</td>\n",
       "    </tr>\n",
       "    <tr>\n",
       "      <th>17</th>\n",
       "      <td>Laura Bassett</td>\n",
       "      <td>POLITICS</td>\n",
       "      <td>2018-05-26</td>\n",
       "      <td>Ireland Votes To Repeal Abortion Amendment In ...</td>\n",
       "      <td>https://www.huffingtonpost.com/entry/results-f...</td>\n",
       "      <td>Irish women will no longer have to travel to t...</td>\n",
       "      <td>Ireland Votes To Repeal Abortion Amendment In ...</td>\n",
       "    </tr>\n",
       "    <tr>\n",
       "      <th>18</th>\n",
       "      <td>Chris D'Angelo</td>\n",
       "      <td>POLITICS</td>\n",
       "      <td>2018-05-26</td>\n",
       "      <td>Ryan Zinke Looks To Reel Back Some Critics Wit...</td>\n",
       "      <td>https://www.huffingtonpost.com/entry/ryan-zink...</td>\n",
       "      <td>The interior secretary attempts damage control...</td>\n",
       "      <td>Ryan Zinke Looks To Reel Back Some Critics Wit...</td>\n",
       "    </tr>\n",
       "    <tr>\n",
       "      <th>19</th>\n",
       "      <td>Mary Papenfuss</td>\n",
       "      <td>POLITICS</td>\n",
       "      <td>2018-05-26</td>\n",
       "      <td>Trump's Scottish Golf Resort Pays Women Signif...</td>\n",
       "      <td>https://www.huffingtonpost.com/entry/trump-sco...</td>\n",
       "      <td>And there are four times as many male as femal...</td>\n",
       "      <td>Trump's Scottish Golf Resort Pays Women Signif...</td>\n",
       "    </tr>\n",
       "    <tr>\n",
       "      <th>20</th>\n",
       "      <td>David Moye</td>\n",
       "      <td>WEIRD NEWS</td>\n",
       "      <td>2018-05-26</td>\n",
       "      <td>Weird Father's Day Gifts Your Dad Doesn't Know...</td>\n",
       "      <td>https://www.huffingtonpost.com/entry/weird-fat...</td>\n",
       "      <td>Why buy a boring tie when you can give him tes...</td>\n",
       "      <td>Weird Father's Day Gifts Your Dad Doesn't Know...</td>\n",
       "    </tr>\n",
       "    <tr>\n",
       "      <th>21</th>\n",
       "      <td>Andy McDonald</td>\n",
       "      <td>ENTERTAINMENT</td>\n",
       "      <td>2018-05-26</td>\n",
       "      <td>Twitter #PutStarWarsInOtherFilms And It Was Un...</td>\n",
       "      <td>https://www.huffingtonpost.com/entry/twitter-p...</td>\n",
       "      <td>There's no such thing as too much \"Star Wars.\"</td>\n",
       "      <td>Twitter #PutStarWarsInOtherFilms And It Was Un...</td>\n",
       "    </tr>\n",
       "    <tr>\n",
       "      <th>22</th>\n",
       "      <td>Hilary Hanson</td>\n",
       "      <td>WEIRD NEWS</td>\n",
       "      <td>2018-05-26</td>\n",
       "      <td>Mystery 'Wolf-Like' Animal Reportedly Shot In ...</td>\n",
       "      <td>https://www.huffingtonpost.com/entry/montana-w...</td>\n",
       "      <td>“We have no idea what this was until we get a ...</td>\n",
       "      <td>Mystery 'Wolf-Like' Animal Reportedly Shot In ...</td>\n",
       "    </tr>\n",
       "    <tr>\n",
       "      <th>23</th>\n",
       "      <td>Josh Smith and Christine Kim, Reuters</td>\n",
       "      <td>WORLD NEWS</td>\n",
       "      <td>2018-05-25</td>\n",
       "      <td>North Korea Still Open To Talks After Trump Ca...</td>\n",
       "      <td>https://www.huffingtonpost.com/entry/north-kor...</td>\n",
       "      <td>Trump’s announcement came after repeated threa...</td>\n",
       "      <td>North Korea Still Open To Talks After Trump Ca...</td>\n",
       "    </tr>\n",
       "    <tr>\n",
       "      <th>24</th>\n",
       "      <td></td>\n",
       "      <td>WORLD NEWS</td>\n",
       "      <td>2018-05-25</td>\n",
       "      <td>2 Men Detonate Bomb Inside Indian Restaurant N...</td>\n",
       "      <td>https://www.huffingtonpost.com/entry/mississau...</td>\n",
       "      <td>Fifteen people were taken to the hospital, thr...</td>\n",
       "      <td>2 Men Detonate Bomb Inside Indian Restaurant N...</td>\n",
       "    </tr>\n",
       "    <tr>\n",
       "      <th>25</th>\n",
       "      <td>Antonia Blumberg</td>\n",
       "      <td>WORLD NEWS</td>\n",
       "      <td>2018-05-25</td>\n",
       "      <td>Thousands Travel Home To Ireland To Vote On Ab...</td>\n",
       "      <td>https://www.huffingtonpost.com/entry/irish-tra...</td>\n",
       "      <td>Just try to read these #HomeToVote tweets with...</td>\n",
       "      <td>Thousands Travel Home To Ireland To Vote On Ab...</td>\n",
       "    </tr>\n",
       "    <tr>\n",
       "      <th>26</th>\n",
       "      <td></td>\n",
       "      <td>WORLD NEWS</td>\n",
       "      <td>2018-05-25</td>\n",
       "      <td>Irish Voters Set To Liberalize Abortion Laws I...</td>\n",
       "      <td>https://www.huffingtonpost.com/entry/ireland-a...</td>\n",
       "      <td>Vote counting will begin Saturday.</td>\n",
       "      <td>Irish Voters Set To Liberalize Abortion Laws I...</td>\n",
       "    </tr>\n",
       "    <tr>\n",
       "      <th>27</th>\n",
       "      <td>Sebastian Murdock</td>\n",
       "      <td>BLACK VOICES</td>\n",
       "      <td>2018-05-25</td>\n",
       "      <td>Warriors Coach Steve Kerr Calls NFL Ban On Pro...</td>\n",
       "      <td>https://www.huffingtonpost.com/entry/warriors-...</td>\n",
       "      <td>Forbidding players to take a knee during the n...</td>\n",
       "      <td>Warriors Coach Steve Kerr Calls NFL Ban On Pro...</td>\n",
       "    </tr>\n",
       "    <tr>\n",
       "      <th>28</th>\n",
       "      <td>Kenya Downs</td>\n",
       "      <td>BLACK VOICES</td>\n",
       "      <td>2018-05-25</td>\n",
       "      <td>In Historic Victory, Barbados Elects First Fem...</td>\n",
       "      <td>https://www.huffingtonpost.com/entry/mia-victo...</td>\n",
       "      <td>Mia Amor Mottley even earned the backing of th...</td>\n",
       "      <td>In Historic Victory, Barbados Elects First Fem...</td>\n",
       "    </tr>\n",
       "    <tr>\n",
       "      <th>29</th>\n",
       "      <td>Sebastian Murdock</td>\n",
       "      <td>BLACK VOICES</td>\n",
       "      <td>2018-05-25</td>\n",
       "      <td>Police Killed At Least 378 Black Americans Fro...</td>\n",
       "      <td>https://www.huffingtonpost.com/entry/police-ki...</td>\n",
       "      <td>These Americans deserve to be more than anothe...</td>\n",
       "      <td>Police Killed At Least 378 Black Americans Fro...</td>\n",
       "    </tr>\n",
       "    <tr>\n",
       "      <th>...</th>\n",
       "      <td>...</td>\n",
       "      <td>...</td>\n",
       "      <td>...</td>\n",
       "      <td>...</td>\n",
       "      <td>...</td>\n",
       "      <td>...</td>\n",
       "      <td>...</td>\n",
       "    </tr>\n",
       "    <tr>\n",
       "      <th>30824</th>\n",
       "      <td>Michelangelo Signorile, Columnist</td>\n",
       "      <td>NaN</td>\n",
       "      <td>2012-01-28</td>\n",
       "      <td>Chris Gregoire, Washington State Governor, Dis...</td>\n",
       "      <td>https://www.huffingtonpost.com/entry/chris-gre...</td>\n",
       "      <td>Regarding her own journey Gregoire said: “I wi...</td>\n",
       "      <td>Chris Gregoire, Washington State Governor, Dis...</td>\n",
       "    </tr>\n",
       "    <tr>\n",
       "      <th>30825</th>\n",
       "      <td></td>\n",
       "      <td>NaN</td>\n",
       "      <td>2012-01-28</td>\n",
       "      <td>Glenn Close On 'Albert Nobbs', Gender Bending ...</td>\n",
       "      <td>https://www.huffingtonpost.comhttp://www.windy...</td>\n",
       "      <td>Twenty-four hours before the Golden Globes cer...</td>\n",
       "      <td>Glenn Close On 'Albert Nobbs', Gender Bending ...</td>\n",
       "    </tr>\n",
       "    <tr>\n",
       "      <th>30826</th>\n",
       "      <td>Larry Bock, Contributor\\nFounder and Organizer...</td>\n",
       "      <td>NaN</td>\n",
       "      <td>2012-01-28</td>\n",
       "      <td>Tinker and Change the World</td>\n",
       "      <td>https://www.huffingtonpost.com/entry/hands-on-...</td>\n",
       "      <td>Tinkering -- that hands-on, garage-based tradi...</td>\n",
       "      <td>Tinker and Change the World Tinkering -- that ...</td>\n",
       "    </tr>\n",
       "    <tr>\n",
       "      <th>30827</th>\n",
       "      <td>Sarah Costa, Contributor\\nExecutive Director o...</td>\n",
       "      <td>NaN</td>\n",
       "      <td>2012-01-28</td>\n",
       "      <td>Pregnant and Displaced: Double the Danger</td>\n",
       "      <td>https://www.huffingtonpost.com/entry/maternal-...</td>\n",
       "      <td>It's time we all step up our efforts to ensure...</td>\n",
       "      <td>Pregnant and Displaced: Double the Danger It's...</td>\n",
       "    </tr>\n",
       "    <tr>\n",
       "      <th>30828</th>\n",
       "      <td></td>\n",
       "      <td>NaN</td>\n",
       "      <td>2012-01-28</td>\n",
       "      <td>Tom Brady Helps Mentor, Tom Martinez, Find A K...</td>\n",
       "      <td>https://www.huffingtonpost.com/entry/tom-brady...</td>\n",
       "      <td>Since Brady started promoting Martinez's cause...</td>\n",
       "      <td>Tom Brady Helps Mentor, Tom Martinez, Find A K...</td>\n",
       "    </tr>\n",
       "    <tr>\n",
       "      <th>30829</th>\n",
       "      <td></td>\n",
       "      <td>NaN</td>\n",
       "      <td>2012-01-28</td>\n",
       "      <td>Boxer Puppy And Cows Make Friends During Walk ...</td>\n",
       "      <td>https://www.huffingtonpost.com/entry/boxer-pup...</td>\n",
       "      <td>This bevy of otters were also filmed having a ...</td>\n",
       "      <td>Boxer Puppy And Cows Make Friends During Walk ...</td>\n",
       "    </tr>\n",
       "    <tr>\n",
       "      <th>30830</th>\n",
       "      <td></td>\n",
       "      <td>NaN</td>\n",
       "      <td>2012-01-28</td>\n",
       "      <td>'Black Smoker' Vents: New Species Discovered N...</td>\n",
       "      <td>https://www.huffingtonpost.com/entry/black-smo...</td>\n",
       "      <td>Photos and captions courtesy of University of ...</td>\n",
       "      <td>'Black Smoker' Vents: New Species Discovered N...</td>\n",
       "    </tr>\n",
       "    <tr>\n",
       "      <th>30831</th>\n",
       "      <td></td>\n",
       "      <td>NaN</td>\n",
       "      <td>2012-01-28</td>\n",
       "      <td>Green Activists: 50 And Older</td>\n",
       "      <td>https://www.huffingtonpost.com/entry/green-peo...</td>\n",
       "      <td>If you look at some of today's most prominent ...</td>\n",
       "      <td>Green Activists: 50 And Older If you look at s...</td>\n",
       "    </tr>\n",
       "    <tr>\n",
       "      <th>30832</th>\n",
       "      <td></td>\n",
       "      <td>NaN</td>\n",
       "      <td>2012-01-28</td>\n",
       "      <td>Winter Weather Photo Contest: Submit Your Own ...</td>\n",
       "      <td>https://www.huffingtonpost.com/entry/winter-we...</td>\n",
       "      <td>While severe winter weather has devastated som...</td>\n",
       "      <td>Winter Weather Photo Contest: Submit Your Own ...</td>\n",
       "    </tr>\n",
       "    <tr>\n",
       "      <th>30833</th>\n",
       "      <td></td>\n",
       "      <td>NaN</td>\n",
       "      <td>2012-01-28</td>\n",
       "      <td>Insects Top Newly Discovered Species List</td>\n",
       "      <td>https://www.huffingtonpost.com/entry/insects-t...</td>\n",
       "      <td>Species IDs need improvement In addition to th...</td>\n",
       "      <td>Insects Top Newly Discovered Species List Spec...</td>\n",
       "    </tr>\n",
       "    <tr>\n",
       "      <th>30834</th>\n",
       "      <td>Dennis Santiago, Contributor\\nGlobal Risk and ...</td>\n",
       "      <td>NaN</td>\n",
       "      <td>2012-01-28</td>\n",
       "      <td>Four More Bank Closures Mark the Week of Janua...</td>\n",
       "      <td>https://www.huffingtonpost.com/entry/four-more...</td>\n",
       "      <td>The general pattern of the FDIC closing banks ...</td>\n",
       "      <td>Four More Bank Closures Mark the Week of Janua...</td>\n",
       "    </tr>\n",
       "    <tr>\n",
       "      <th>30835</th>\n",
       "      <td>Harry Bradford</td>\n",
       "      <td>NaN</td>\n",
       "      <td>2012-01-28</td>\n",
       "      <td>Everything You Need To Know About Overdraft Fe...</td>\n",
       "      <td>https://www.huffingtonpost.com/entry/bank-fees...</td>\n",
       "      <td>Don't like keeping all of your money stuffed u...</td>\n",
       "      <td>Everything You Need To Know About Overdraft Fe...</td>\n",
       "    </tr>\n",
       "    <tr>\n",
       "      <th>30836</th>\n",
       "      <td></td>\n",
       "      <td>NaN</td>\n",
       "      <td>2012-01-28</td>\n",
       "      <td>Walmart Waving Goodbye To Some Greeters</td>\n",
       "      <td>https://www.huffingtonpost.comhttp://jobs.aol....</td>\n",
       "      <td>After 30 years, \"People Greeters\" will no long...</td>\n",
       "      <td>Walmart Waving Goodbye To Some Greeters After ...</td>\n",
       "    </tr>\n",
       "    <tr>\n",
       "      <th>30837</th>\n",
       "      <td>Peter S. Goodman, Contributor\\nExecutive Busin...</td>\n",
       "      <td>NaN</td>\n",
       "      <td>2012-01-28</td>\n",
       "      <td>At World Economic Forum, Fear of Global Contag...</td>\n",
       "      <td>https://www.huffingtonpost.com/entry/world-eco...</td>\n",
       "      <td>For decades, as crises have assailed developin...</td>\n",
       "      <td>At World Economic Forum, Fear of Global Contag...</td>\n",
       "    </tr>\n",
       "    <tr>\n",
       "      <th>30838</th>\n",
       "      <td>Ernan Roman, Contributor\\nPresident</td>\n",
       "      <td>NaN</td>\n",
       "      <td>2012-01-28</td>\n",
       "      <td>Positive Customer Experience: What's the Retur...</td>\n",
       "      <td>https://www.huffingtonpost.com/entry/positive-...</td>\n",
       "      <td>\"Analysts at Adobe combined historical purchas...</td>\n",
       "      <td>Positive Customer Experience: What's the Retur...</td>\n",
       "    </tr>\n",
       "    <tr>\n",
       "      <th>30839</th>\n",
       "      <td>Courtney Garcia, Contributor\\nI tell stories a...</td>\n",
       "      <td>NaN</td>\n",
       "      <td>2012-01-28</td>\n",
       "      <td>Sundance, Ice-T, and Shades of the American Ra...</td>\n",
       "      <td>https://www.huffingtonpost.com/entry/sundance-...</td>\n",
       "      <td>Representation of the collective diaspora has ...</td>\n",
       "      <td>Sundance, Ice-T, and Shades of the American Ra...</td>\n",
       "    </tr>\n",
       "    <tr>\n",
       "      <th>30840</th>\n",
       "      <td></td>\n",
       "      <td>NaN</td>\n",
       "      <td>2012-01-28</td>\n",
       "      <td>'Girl With the Dragon Tattoo' India Release Ca...</td>\n",
       "      <td>https://www.huffingtonpost.com/entry/girl-with...</td>\n",
       "      <td>\"Sony Pictures will not be releasing The Girl ...</td>\n",
       "      <td>'Girl With the Dragon Tattoo' India Release Ca...</td>\n",
       "    </tr>\n",
       "    <tr>\n",
       "      <th>30841</th>\n",
       "      <td>Kia Makarechi</td>\n",
       "      <td>NaN</td>\n",
       "      <td>2012-01-28</td>\n",
       "      <td>'Don't Think': A Look At The Chemical Brothers...</td>\n",
       "      <td>https://www.huffingtonpost.com/entry/dont-thin...</td>\n",
       "      <td>Amid cheers and the occasional \"Here we go!\" f...</td>\n",
       "      <td>'Don't Think': A Look At The Chemical Brothers...</td>\n",
       "    </tr>\n",
       "    <tr>\n",
       "      <th>30842</th>\n",
       "      <td></td>\n",
       "      <td>NaN</td>\n",
       "      <td>2012-01-28</td>\n",
       "      <td>Matthew Marks Discusses His New LA Gallery</td>\n",
       "      <td>https://www.huffingtonpost.com/entry/matthew-m...</td>\n",
       "      <td>Was it an obvious choice to recruit Ellsworth ...</td>\n",
       "      <td>Matthew Marks Discusses His New LA Gallery Was...</td>\n",
       "    </tr>\n",
       "    <tr>\n",
       "      <th>30843</th>\n",
       "      <td></td>\n",
       "      <td>NaN</td>\n",
       "      <td>2012-01-28</td>\n",
       "      <td>Allard Van Hoorn's 'Urban Songline' Explores R...</td>\n",
       "      <td>https://www.huffingtonpost.com/entry/allard-va...</td>\n",
       "      <td>A recent exhibition at Storefront for Art and ...</td>\n",
       "      <td>Allard Van Hoorn's 'Urban Songline' Explores R...</td>\n",
       "    </tr>\n",
       "    <tr>\n",
       "      <th>30844</th>\n",
       "      <td>Mateo Gutierrez, Contributor\\nArtist</td>\n",
       "      <td>NaN</td>\n",
       "      <td>2012-01-28</td>\n",
       "      <td>Good Games -- Is It possible?</td>\n",
       "      <td>https://www.huffingtonpost.com/entry/games-for...</td>\n",
       "      <td>I don't think people who play Zynga games are ...</td>\n",
       "      <td>Good Games -- Is It possible? I don't think pe...</td>\n",
       "    </tr>\n",
       "    <tr>\n",
       "      <th>30845</th>\n",
       "      <td>Larry Magid, Contributor\\nTechnology journalist</td>\n",
       "      <td>NaN</td>\n",
       "      <td>2012-01-28</td>\n",
       "      <td>Google+ Now Open for Teens With Some Safeguards</td>\n",
       "      <td>https://www.huffingtonpost.com/entry/google-pl...</td>\n",
       "      <td>For the most part, teens' experience on Google...</td>\n",
       "      <td>Google+ Now Open for Teens With Some Safeguard...</td>\n",
       "    </tr>\n",
       "    <tr>\n",
       "      <th>30846</th>\n",
       "      <td>John Giacobbi, Contributor\\nTales from the Int...</td>\n",
       "      <td>NaN</td>\n",
       "      <td>2012-01-28</td>\n",
       "      <td>Web Wars</td>\n",
       "      <td>https://www.huffingtonpost.com/entry/congress-...</td>\n",
       "      <td>These \"Web Wars\" threaten to rage on for some ...</td>\n",
       "      <td>Web Wars These \"Web Wars\" threaten to rage on ...</td>\n",
       "    </tr>\n",
       "    <tr>\n",
       "      <th>30847</th>\n",
       "      <td></td>\n",
       "      <td>NaN</td>\n",
       "      <td>2012-01-28</td>\n",
       "      <td>First White House Chief Technology Officer, An...</td>\n",
       "      <td>https://www.huffingtonpost.comhttp://www.engad...</td>\n",
       "      <td>He was appointed with a fair bit of fanfare as...</td>\n",
       "      <td>First White House Chief Technology Officer, An...</td>\n",
       "    </tr>\n",
       "    <tr>\n",
       "      <th>30848</th>\n",
       "      <td>Catharine Smith</td>\n",
       "      <td>NaN</td>\n",
       "      <td>2012-01-28</td>\n",
       "      <td>Watch The Top 9 YouTube Videos Of The Week</td>\n",
       "      <td>https://www.huffingtonpost.com/entry/watch-top...</td>\n",
       "      <td>If you're looking to see the most popular YouT...</td>\n",
       "      <td>Watch The Top 9 YouTube Videos Of The Week If ...</td>\n",
       "    </tr>\n",
       "    <tr>\n",
       "      <th>30849</th>\n",
       "      <td>Reuters, Reuters</td>\n",
       "      <td>NaN</td>\n",
       "      <td>2012-01-28</td>\n",
       "      <td>RIM CEO Thorsten Heins' 'Significant' Plans Fo...</td>\n",
       "      <td>https://www.huffingtonpost.com/entry/rim-ceo-t...</td>\n",
       "      <td>Verizon Wireless and AT&amp;T are already promotin...</td>\n",
       "      <td>RIM CEO Thorsten Heins' 'Significant' Plans Fo...</td>\n",
       "    </tr>\n",
       "    <tr>\n",
       "      <th>30850</th>\n",
       "      <td></td>\n",
       "      <td>NaN</td>\n",
       "      <td>2012-01-28</td>\n",
       "      <td>Maria Sharapova Stunned By Victoria Azarenka I...</td>\n",
       "      <td>https://www.huffingtonpost.com/entry/maria-sha...</td>\n",
       "      <td>Afterward, Azarenka, more effusive with the pr...</td>\n",
       "      <td>Maria Sharapova Stunned By Victoria Azarenka I...</td>\n",
       "    </tr>\n",
       "    <tr>\n",
       "      <th>30851</th>\n",
       "      <td></td>\n",
       "      <td>NaN</td>\n",
       "      <td>2012-01-28</td>\n",
       "      <td>Giants Over Patriots, Jets Over Colts Among  M...</td>\n",
       "      <td>https://www.huffingtonpost.com/entry/super-bow...</td>\n",
       "      <td>Leading up to Super Bowl XLVI, the most talked...</td>\n",
       "      <td>Giants Over Patriots, Jets Over Colts Among  M...</td>\n",
       "    </tr>\n",
       "    <tr>\n",
       "      <th>30852</th>\n",
       "      <td></td>\n",
       "      <td>NaN</td>\n",
       "      <td>2012-01-28</td>\n",
       "      <td>Aldon Smith Arrested: 49ers Linebacker Busted ...</td>\n",
       "      <td>https://www.huffingtonpost.com/entry/aldon-smi...</td>\n",
       "      <td>CORRECTION: An earlier version of this story i...</td>\n",
       "      <td>Aldon Smith Arrested: 49ers Linebacker Busted ...</td>\n",
       "    </tr>\n",
       "    <tr>\n",
       "      <th>30853</th>\n",
       "      <td></td>\n",
       "      <td>NaN</td>\n",
       "      <td>2012-01-28</td>\n",
       "      <td>Dwight Howard Rips Teammates After Magic Loss ...</td>\n",
       "      <td>https://www.huffingtonpost.com/entry/dwight-ho...</td>\n",
       "      <td>The five-time all-star center tore into his te...</td>\n",
       "      <td>Dwight Howard Rips Teammates After Magic Loss ...</td>\n",
       "    </tr>\n",
       "  </tbody>\n",
       "</table>\n",
       "<p>200853 rows × 7 columns</p>\n",
       "</div>"
      ],
      "text/plain": [
       "                                                 authors  ...                                               text\n",
       "0                                        Melissa Jeltsen  ...  There Were 2 Mass Shootings In Texas Last Week...\n",
       "1                                          Andy McDonald  ...  Will Smith Joins Diplo And Nicky Jam For The 2...\n",
       "2                                             Ron Dicker  ...  Hugh Grant Marries For The First Time At Age 5...\n",
       "3                                             Ron Dicker  ...  Jim Carrey Blasts 'Castrato' Adam Schiff And D...\n",
       "4                                             Ron Dicker  ...  Julianna Margulies Uses Donald Trump Poop Bags...\n",
       "5                                             Ron Dicker  ...  Morgan Freeman 'Devastated' That Sexual Harass...\n",
       "6                                             Ron Dicker  ...  Donald Trump Is Lovin' New McDonald's Jingle I...\n",
       "7                                        Todd Van Luling  ...  What To Watch On Amazon Prime That’s New This ...\n",
       "8                                          Andy McDonald  ...  Mike Myers Reveals He'd 'Like To' Do A Fourth ...\n",
       "9                                        Todd Van Luling  ...  What To Watch On Hulu That’s New This Week You...\n",
       "10                                     Sebastian Murdock  ...  Justin Timberlake Visits Texas School Shooting...\n",
       "11                                                        ...  South Korean President Meets North Korea's Kim...\n",
       "12                                         Karen Pinchin  ...  With Its Way Of Life At Risk, This Remote Oyst...\n",
       "13                          Elise Foley and Roque Planas  ...  Trump's Crackdown On Immigrant Parents Puts Mo...\n",
       "14                           Michael Isikoff, Yahoo News  ...  'Trump's Son Should Be Concerned': FBI Obtaine...\n",
       "15                                        Mary Papenfuss  ...  Edward Snowden: There's No One Trump Loves Mor...\n",
       "16                                        Mary Papenfuss  ...  Booyah: Obama Photographer Hilariously Trolls ...\n",
       "17                                         Laura Bassett  ...  Ireland Votes To Repeal Abortion Amendment In ...\n",
       "18                                        Chris D'Angelo  ...  Ryan Zinke Looks To Reel Back Some Critics Wit...\n",
       "19                                        Mary Papenfuss  ...  Trump's Scottish Golf Resort Pays Women Signif...\n",
       "20                                            David Moye  ...  Weird Father's Day Gifts Your Dad Doesn't Know...\n",
       "21                                         Andy McDonald  ...  Twitter #PutStarWarsInOtherFilms And It Was Un...\n",
       "22                                         Hilary Hanson  ...  Mystery 'Wolf-Like' Animal Reportedly Shot In ...\n",
       "23                 Josh Smith and Christine Kim, Reuters  ...  North Korea Still Open To Talks After Trump Ca...\n",
       "24                                                        ...  2 Men Detonate Bomb Inside Indian Restaurant N...\n",
       "25                                      Antonia Blumberg  ...  Thousands Travel Home To Ireland To Vote On Ab...\n",
       "26                                                        ...  Irish Voters Set To Liberalize Abortion Laws I...\n",
       "27                                     Sebastian Murdock  ...  Warriors Coach Steve Kerr Calls NFL Ban On Pro...\n",
       "28                                           Kenya Downs  ...  In Historic Victory, Barbados Elects First Fem...\n",
       "29                                     Sebastian Murdock  ...  Police Killed At Least 378 Black Americans Fro...\n",
       "...                                                  ...  ...                                                ...\n",
       "30824                  Michelangelo Signorile, Columnist  ...  Chris Gregoire, Washington State Governor, Dis...\n",
       "30825                                                     ...  Glenn Close On 'Albert Nobbs', Gender Bending ...\n",
       "30826  Larry Bock, Contributor\\nFounder and Organizer...  ...  Tinker and Change the World Tinkering -- that ...\n",
       "30827  Sarah Costa, Contributor\\nExecutive Director o...  ...  Pregnant and Displaced: Double the Danger It's...\n",
       "30828                                                     ...  Tom Brady Helps Mentor, Tom Martinez, Find A K...\n",
       "30829                                                     ...  Boxer Puppy And Cows Make Friends During Walk ...\n",
       "30830                                                     ...  'Black Smoker' Vents: New Species Discovered N...\n",
       "30831                                                     ...  Green Activists: 50 And Older If you look at s...\n",
       "30832                                                     ...  Winter Weather Photo Contest: Submit Your Own ...\n",
       "30833                                                     ...  Insects Top Newly Discovered Species List Spec...\n",
       "30834  Dennis Santiago, Contributor\\nGlobal Risk and ...  ...  Four More Bank Closures Mark the Week of Janua...\n",
       "30835                                     Harry Bradford  ...  Everything You Need To Know About Overdraft Fe...\n",
       "30836                                                     ...  Walmart Waving Goodbye To Some Greeters After ...\n",
       "30837  Peter S. Goodman, Contributor\\nExecutive Busin...  ...  At World Economic Forum, Fear of Global Contag...\n",
       "30838                Ernan Roman, Contributor\\nPresident  ...  Positive Customer Experience: What's the Retur...\n",
       "30839  Courtney Garcia, Contributor\\nI tell stories a...  ...  Sundance, Ice-T, and Shades of the American Ra...\n",
       "30840                                                     ...  'Girl With the Dragon Tattoo' India Release Ca...\n",
       "30841                                      Kia Makarechi  ...  'Don't Think': A Look At The Chemical Brothers...\n",
       "30842                                                     ...  Matthew Marks Discusses His New LA Gallery Was...\n",
       "30843                                                     ...  Allard Van Hoorn's 'Urban Songline' Explores R...\n",
       "30844               Mateo Gutierrez, Contributor\\nArtist  ...  Good Games -- Is It possible? I don't think pe...\n",
       "30845    Larry Magid, Contributor\\nTechnology journalist  ...  Google+ Now Open for Teens With Some Safeguard...\n",
       "30846  John Giacobbi, Contributor\\nTales from the Int...  ...  Web Wars These \"Web Wars\" threaten to rage on ...\n",
       "30847                                                     ...  First White House Chief Technology Officer, An...\n",
       "30848                                    Catharine Smith  ...  Watch The Top 9 YouTube Videos Of The Week If ...\n",
       "30849                                   Reuters, Reuters  ...  RIM CEO Thorsten Heins' 'Significant' Plans Fo...\n",
       "30850                                                     ...  Maria Sharapova Stunned By Victoria Azarenka I...\n",
       "30851                                                     ...  Giants Over Patriots, Jets Over Colts Among  M...\n",
       "30852                                                     ...  Aldon Smith Arrested: 49ers Linebacker Busted ...\n",
       "30853                                                     ...  Dwight Howard Rips Teammates After Magic Loss ...\n",
       "\n",
       "[200853 rows x 7 columns]"
      ]
     },
     "execution_count": 13,
     "metadata": {
      "tags": []
     },
     "output_type": "execute_result"
    }
   ],
   "source": [
    "df_lm=df\n",
    "df_lm.append(dftst) # make a separate dataframe with both the df and df_tst for lang model"
   ]
  },
  {
   "cell_type": "code",
   "execution_count": 0,
   "metadata": {
    "colab": {},
    "colab_type": "code",
    "id": "FShC_OSdRUWH"
   },
   "outputs": [],
   "source": [
    "data_lm=(TextList.from_df(df_lm,cols=['text'])\n",
    "        .split_by_rand_pct(0.1)\n",
    "        .label_for_lm()\n",
    "        .databunch(bs=48))"
   ]
  },
  {
   "cell_type": "markdown",
   "metadata": {
    "colab_type": "text",
    "id": "eQS-lp6sNn2I"
   },
   "source": [
    "We create a data bunch with the text of df_lm with random validation set of 10percent and no labels. We are trying to build a learner which can predict the next word in the sentence, so the next word of the sentence becomes the target(self supervised learning)."
   ]
  },
  {
   "cell_type": "code",
   "execution_count": 0,
   "metadata": {
    "colab": {},
    "colab_type": "code",
    "id": "uLysLP4CS4Nw"
   },
   "outputs": [],
   "source": [
    "data_lm.save('data_lm.pkl')"
   ]
  },
  {
   "cell_type": "code",
   "execution_count": 0,
   "metadata": {
    "colab": {
     "base_uri": "https://localhost:8080/",
     "height": 54
    },
    "colab_type": "code",
    "id": "Uo2Zatp0-p9H",
    "outputId": "a130d098-4e0a-4157-cca1-af21c1fa9b3a"
   },
   "outputs": [
    {
     "data": {
      "text/plain": [
       "os.stat_result(st_mode=33152, st_ino=24, st_dev=71, st_nlink=1, st_uid=0, st_gid=0, st_size=2097152, st_atime=1562211040, st_mtime=1562211029, st_ctime=1562211029)"
      ]
     },
     "execution_count": 26,
     "metadata": {
      "tags": []
     },
     "output_type": "execute_result"
    }
   ],
   "source": [
    "import os\n",
    "os.stat(p/'drive/My Drive/nlp/data_lm.pkl')"
   ]
  },
  {
   "cell_type": "code",
   "execution_count": 0,
   "metadata": {
    "colab": {
     "base_uri": "https://localhost:8080/",
     "height": 34
    },
    "colab_type": "code",
    "id": "0tFVcCprBXDX",
    "outputId": "fe9b4f27-0c4b-4a54-eb6e-752097e66d4b"
   },
   "outputs": [
    {
     "data": {
      "text/plain": [
       "PosixPath('drive/My Drive/nlp/data_lm.pkl')"
      ]
     },
     "execution_count": 23,
     "metadata": {
      "tags": []
     },
     "output_type": "execute_result"
    }
   ],
   "source": [
    "from shutil import copyfile\n",
    "\n",
    "copyfile('data_lm.pkl', p/'drive/My Drive/nlp/data_lm.pkl')"
   ]
  },
  {
   "cell_type": "code",
   "execution_count": 0,
   "metadata": {
    "colab": {},
    "colab_type": "code",
    "id": "hQatYl_N96Sa"
   },
   "outputs": [],
   "source": [
    "from google.colab import files\n",
    "files.download('data_lm.pkl')"
   ]
  },
  {
   "cell_type": "code",
   "execution_count": 0,
   "metadata": {
    "colab": {},
    "colab_type": "code",
    "id": "MQGBoghK8nym"
   },
   "outputs": [],
   "source": [
    "data_lm=load_data(p,'data_lm.pkl',bs=48)"
   ]
  },
  {
   "cell_type": "code",
   "execution_count": 0,
   "metadata": {
    "colab": {},
    "colab_type": "code",
    "id": "x-ZbVr0jTKFf"
   },
   "outputs": [],
   "source": [
    "from google.colab import files\n",
    "files.download(p/'data_lm.pkl')"
   ]
  },
  {
   "cell_type": "code",
   "execution_count": 0,
   "metadata": {
    "colab": {},
    "colab_type": "code",
    "id": "KSdh-d_9TOwv"
   },
   "outputs": [],
   "source": [
    "learn=language_model_learner(data_lm,AWD_LSTM,drop_mult=0.3)"
   ]
  },
  {
   "cell_type": "markdown",
   "metadata": {
    "colab_type": "text",
    "id": "BbZcjVBBbJ88"
   },
   "source": [
    "we create a learner with the LSTM architecture\n",
    "\n",
    "drop_mult--dropout-- reduce regularization-to avoid underfitting-- with value=1 was underfitting"
   ]
  },
  {
   "cell_type": "code",
   "execution_count": 0,
   "metadata": {
    "colab": {},
    "colab_type": "code",
    "id": "ejhIjNrsVVYp"
   },
   "outputs": [],
   "source": [
    "learn.save('lm_untrained')"
   ]
  },
  {
   "cell_type": "code",
   "execution_count": 0,
   "metadata": {
    "colab": {
     "base_uri": "https://localhost:8080/",
     "height": 34
    },
    "colab_type": "code",
    "id": "hjfWAAHpDwBH",
    "outputId": "ae18d434-4c28-44cb-ac5d-5475a59d3d3f"
   },
   "outputs": [
    {
     "data": {
      "text/plain": [
       "PosixPath('drive/My Drive/nlp/lm_untrained.pth')"
      ]
     },
     "execution_count": 29,
     "metadata": {
      "tags": []
     },
     "output_type": "execute_result"
    }
   ],
   "source": [
    "copyfile(p/'models/lm_untrained.pth', p/'drive/My Drive/nlp/lm_untrained.pth')"
   ]
  },
  {
   "cell_type": "code",
   "execution_count": 0,
   "metadata": {
    "colab": {
     "base_uri": "https://localhost:8080/",
     "height": 54
    },
    "colab_type": "code",
    "id": "oWLiObZbD-HF",
    "outputId": "f1533286-f304-4808-a53f-9e4220639009"
   },
   "outputs": [
    {
     "data": {
      "text/plain": [
       "os.stat_result(st_mode=33188, st_ino=10486695, st_dev=46, st_nlink=1, st_uid=0, st_gid=0, st_size=308711523, st_atime=1562212650, st_mtime=1562212650, st_ctime=1562212650)"
      ]
     },
     "execution_count": 40,
     "metadata": {
      "tags": []
     },
     "output_type": "execute_result"
    }
   ],
   "source": [
    "os.stat(p/'models/lm_1.pth')"
   ]
  },
  {
   "cell_type": "code",
   "execution_count": 0,
   "metadata": {
    "colab": {
     "base_uri": "https://localhost:8080/",
     "height": 54
    },
    "colab_type": "code",
    "id": "GQWClCflEDji",
    "outputId": "3506eb25-8c58-48b7-9782-518c49ef0dce"
   },
   "outputs": [
    {
     "data": {
      "text/plain": [
       "os.stat_result(st_mode=33152, st_ino=28, st_dev=71, st_nlink=1, st_uid=0, st_gid=0, st_size=308711523, st_atime=1562212667, st_mtime=1562212653, st_ctime=1562212650)"
      ]
     },
     "execution_count": 41,
     "metadata": {
      "tags": []
     },
     "output_type": "execute_result"
    }
   ],
   "source": [
    "os.stat(p/'drive/My Drive/nlp/lm_1.pth')"
   ]
  },
  {
   "cell_type": "code",
   "execution_count": 0,
   "metadata": {
    "colab": {
     "base_uri": "https://localhost:8080/",
     "height": 320
    },
    "colab_type": "code",
    "id": "bW6iHbIAT4a3",
    "outputId": "a81f4a4b-f8ca-4f59-9174-9342bb2e35dc"
   },
   "outputs": [
    {
     "data": {
      "text/html": [],
      "text/plain": [
       "<IPython.core.display.HTML object>"
      ]
     },
     "metadata": {
      "tags": []
     },
     "output_type": "display_data"
    },
    {
     "name": "stdout",
     "output_type": "stream",
     "text": [
      "LR Finder is complete, type {learner_name}.recorder.plot() to see the graph.\n"
     ]
    },
    {
     "data": {
      "image/png": "[encoded data removed]",
      "text/plain": [
       "<Figure size 432x288 with 1 Axes>"
      ]
     },
     "metadata": {
      "tags": []
     },
     "output_type": "display_data"
    }
   ],
   "source": [
    "learn.lr_find()\n",
    "learn.recorder.plot()"
   ]
  },
  {
   "cell_type": "code",
   "execution_count": 0,
   "metadata": {
    "colab": {
     "base_uri": "https://localhost:8080/",
     "height": 283
    },
    "colab_type": "code",
    "id": "rV9jBLIgUQkD",
    "outputId": "292fb59d-8688-4db2-acda-1a406d61f055"
   },
   "outputs": [
    {
     "data": {
      "image/png": "[encoded data removed]",
      "text/plain": [
       "<Figure size 432x288 with 1 Axes>"
      ]
     },
     "metadata": {
      "tags": []
     },
     "output_type": "display_data"
    }
   ],
   "source": [
    "learn.recorder.plot(skip_end=15)"
   ]
  },
  {
   "cell_type": "code",
   "execution_count": 0,
   "metadata": {
    "colab": {
     "base_uri": "https://localhost:8080/",
     "height": 80
    },
    "colab_type": "code",
    "id": "7AvkYN-3Upd2",
    "outputId": "de006c1a-ba11-4368-e70d-fa9ae2e985a9"
   },
   "outputs": [
    {
     "data": {
      "text/html": [
       "<table border=\"1\" class=\"dataframe\">\n",
       "  <thead>\n",
       "    <tr style=\"text-align: left;\">\n",
       "      <th>epoch</th>\n",
       "      <th>train_loss</th>\n",
       "      <th>valid_loss</th>\n",
       "      <th>accuracy</th>\n",
       "      <th>time</th>\n",
       "    </tr>\n",
       "  </thead>\n",
       "  <tbody>\n",
       "    <tr>\n",
       "      <td>0</td>\n",
       "      <td>3.796017</td>\n",
       "      <td>3.627814</td>\n",
       "      <td>0.402209</td>\n",
       "      <td>17:38</td>\n",
       "    </tr>\n",
       "  </tbody>\n",
       "</table>"
      ],
      "text/plain": [
       "<IPython.core.display.HTML object>"
      ]
     },
     "metadata": {
      "tags": []
     },
     "output_type": "display_data"
    }
   ],
   "source": [
    "learn.fit_one_cycle(1,1e-02)"
   ]
  },
  {
   "cell_type": "code",
   "execution_count": 0,
   "metadata": {
    "colab": {},
    "colab_type": "code",
    "id": "XKyjNclEWyYf"
   },
   "outputs": [],
   "source": [
    "learn.save('lm_1')"
   ]
  },
  {
   "cell_type": "code",
   "execution_count": 0,
   "metadata": {
    "colab": {
     "base_uri": "https://localhost:8080/",
     "height": 34
    },
    "colab_type": "code",
    "id": "9ABTMtbJES0k",
    "outputId": "da393788-74bc-4ba6-c0f3-9b58edf7369f"
   },
   "outputs": [
    {
     "data": {
      "text/plain": [
       "PosixPath('drive/My Drive/nlp/lm_1.pth')"
      ]
     },
     "execution_count": 34,
     "metadata": {
      "tags": []
     },
     "output_type": "execute_result"
    }
   ],
   "source": [
    "copyfile(p/'models/lm_1.pth', p/'drive/My Drive/nlp/lm_1.pth')"
   ]
  },
  {
   "cell_type": "code",
   "execution_count": 0,
   "metadata": {
    "colab": {},
    "colab_type": "code",
    "id": "cTwouNEPW1Tj"
   },
   "outputs": [],
   "source": [
    "files.download(p/'models/lm_1.pth')"
   ]
  },
  {
   "cell_type": "code",
   "execution_count": 0,
   "metadata": {
    "colab": {},
    "colab_type": "code",
    "id": "_S_8dCFiXeiE"
   },
   "outputs": [],
   "source": [
    "learn.unfreeze()"
   ]
  },
  {
   "cell_type": "code",
   "execution_count": 0,
   "metadata": {
    "colab": {
     "base_uri": "https://localhost:8080/",
     "height": 320
    },
    "colab_type": "code",
    "id": "2FcFZD5SXmA2",
    "outputId": "a6c803ea-8173-4c18-d7f6-bd1e79839944"
   },
   "outputs": [
    {
     "data": {
      "text/html": [],
      "text/plain": [
       "<IPython.core.display.HTML object>"
      ]
     },
     "metadata": {
      "tags": []
     },
     "output_type": "display_data"
    },
    {
     "name": "stdout",
     "output_type": "stream",
     "text": [
      "LR Finder is complete, type {learner_name}.recorder.plot() to see the graph.\n"
     ]
    },
    {
     "data": {
      "image/png": "[encoded data removed]",
      "text/plain": [
       "<Figure size 432x288 with 1 Axes>"
      ]
     },
     "metadata": {
      "tags": []
     },
     "output_type": "display_data"
    }
   ],
   "source": [
    "learn.lr_find()\n",
    "learn.recorder.plot(skip_end=15)"
   ]
  },
  {
   "cell_type": "code",
   "execution_count": 0,
   "metadata": {
    "colab": {
     "base_uri": "https://localhost:8080/",
     "height": 283
    },
    "colab_type": "code",
    "id": "2NxP0YSOX51a",
    "outputId": "77942300-01f7-4212-d59e-8097734149b4"
   },
   "outputs": [
    {
     "data": {
      "image/png": "[encoded data removed]",
      "text/plain": [
       "<Figure size 432x288 with 1 Axes>"
      ]
     },
     "metadata": {
      "tags": []
     },
     "output_type": "display_data"
    }
   ],
   "source": [
    "learn.recorder.plot(skip_end=30)"
   ]
  },
  {
   "cell_type": "code",
   "execution_count": 0,
   "metadata": {
    "colab": {
     "base_uri": "https://localhost:8080/",
     "height": 204
    },
    "colab_type": "code",
    "id": "E2I6oDwaXis3",
    "outputId": "12f85065-efd8-4725-9937-437961c7b1c1"
   },
   "outputs": [
    {
     "data": {
      "text/html": [
       "<table border=\"1\" class=\"dataframe\">\n",
       "  <thead>\n",
       "    <tr style=\"text-align: left;\">\n",
       "      <th>epoch</th>\n",
       "      <th>train_loss</th>\n",
       "      <th>valid_loss</th>\n",
       "      <th>accuracy</th>\n",
       "      <th>time</th>\n",
       "    </tr>\n",
       "  </thead>\n",
       "  <tbody>\n",
       "    <tr>\n",
       "      <td>0</td>\n",
       "      <td>3.518957</td>\n",
       "      <td>3.556757</td>\n",
       "      <td>0.408536</td>\n",
       "      <td>20:14</td>\n",
       "    </tr>\n",
       "    <tr>\n",
       "      <td>1</td>\n",
       "      <td>3.462614</td>\n",
       "      <td>3.500645</td>\n",
       "      <td>0.414409</td>\n",
       "      <td>20:15</td>\n",
       "    </tr>\n",
       "    <tr>\n",
       "      <td>2</td>\n",
       "      <td>3.420472</td>\n",
       "      <td>3.475075</td>\n",
       "      <td>0.417100</td>\n",
       "      <td>20:16</td>\n",
       "    </tr>\n",
       "    <tr>\n",
       "      <td>3</td>\n",
       "      <td>3.408247</td>\n",
       "      <td>3.465227</td>\n",
       "      <td>0.418249</td>\n",
       "      <td>20:15</td>\n",
       "    </tr>\n",
       "    <tr>\n",
       "      <td>4</td>\n",
       "      <td>3.415288</td>\n",
       "      <td>3.463671</td>\n",
       "      <td>0.418429</td>\n",
       "      <td>20:15</td>\n",
       "    </tr>\n",
       "  </tbody>\n",
       "</table>"
      ],
      "text/plain": [
       "<IPython.core.display.HTML object>"
      ]
     },
     "metadata": {
      "tags": []
     },
     "output_type": "display_data"
    }
   ],
   "source": [
    "learn.fit_one_cycle(5,2e-5)\n",
    "learn.save('lm_2')"
   ]
  },
  {
   "cell_type": "code",
   "execution_count": 0,
   "metadata": {
    "colab": {
     "base_uri": "https://localhost:8080/",
     "height": 34
    },
    "colab_type": "code",
    "id": "wbClC_gsEZhy",
    "outputId": "6883112b-71f0-47ba-b6b1-d610712f59a1"
   },
   "outputs": [
    {
     "data": {
      "text/plain": [
       "PosixPath('drive/My Drive/nlp/lm_2.pth')"
      ]
     },
     "execution_count": 37,
     "metadata": {
      "tags": []
     },
     "output_type": "execute_result"
    }
   ],
   "source": [
    "copyfile(p/'models/lm_2.pth', p/'drive/My Drive/nlp/lm_2.pth')"
   ]
  },
  {
   "cell_type": "code",
   "execution_count": 0,
   "metadata": {
    "colab": {
     "base_uri": "https://localhost:8080/",
     "height": 320
    },
    "colab_type": "code",
    "id": "JUu1PDcijMh8",
    "outputId": "dccaf6c0-9342-4719-aa2c-6e837e63b27d"
   },
   "outputs": [
    {
     "data": {
      "text/html": [],
      "text/plain": [
       "<IPython.core.display.HTML object>"
      ]
     },
     "metadata": {
      "tags": []
     },
     "output_type": "display_data"
    },
    {
     "name": "stdout",
     "output_type": "stream",
     "text": [
      "LR Finder is complete, type {learner_name}.recorder.plot() to see the graph.\n"
     ]
    },
    {
     "data": {
      "image/png": "[encoded data removed]",
      "text/plain": [
       "<Figure size 432x288 with 1 Axes>"
      ]
     },
     "metadata": {
      "tags": []
     },
     "output_type": "display_data"
    }
   ],
   "source": [
    "learn.lr_find()\n",
    "learn.recorder.plot()"
   ]
  },
  {
   "cell_type": "code",
   "execution_count": 0,
   "metadata": {
    "colab": {},
    "colab_type": "code",
    "id": "DnJ11Tz6YJ4M"
   },
   "outputs": [],
   "source": [
    "files.download(p/'models/lm_2.pth')"
   ]
  },
  {
   "cell_type": "code",
   "execution_count": 0,
   "metadata": {
    "colab": {
     "base_uri": "https://localhost:8080/",
     "height": 283
    },
    "colab_type": "code",
    "id": "E8zBtfKL9x5X",
    "outputId": "47f55a97-d921-4759-c7e0-aa8983a9b89f"
   },
   "outputs": [
    {
     "data": {
      "image/png": "[encoded data removed]",
      "text/plain": [
       "<Figure size 432x288 with 1 Axes>"
      ]
     },
     "metadata": {
      "tags": []
     },
     "output_type": "display_data"
    }
   ],
   "source": [
    "learn.recorder.plot(skip_end=50)"
   ]
  },
  {
   "cell_type": "code",
   "execution_count": 0,
   "metadata": {
    "colab": {},
    "colab_type": "code",
    "id": "oKtmXjzd-PjV"
   },
   "outputs": [],
   "source": [
    "learn.recorder.plot(skip_end=15)"
   ]
  },
  {
   "cell_type": "code",
   "execution_count": 0,
   "metadata": {
    "colab": {
     "base_uri": "https://localhost:8080/",
     "height": 142
    },
    "colab_type": "code",
    "id": "vRogOAqy-zJw",
    "outputId": "9792ceff-c243-44ee-ea6c-5d8371d9171a"
   },
   "outputs": [
    {
     "data": {
      "text/html": [
       "<table border=\"1\" class=\"dataframe\">\n",
       "  <thead>\n",
       "    <tr style=\"text-align: left;\">\n",
       "      <th>epoch</th>\n",
       "      <th>train_loss</th>\n",
       "      <th>valid_loss</th>\n",
       "      <th>accuracy</th>\n",
       "      <th>time</th>\n",
       "    </tr>\n",
       "  </thead>\n",
       "  <tbody>\n",
       "    <tr>\n",
       "      <td>0</td>\n",
       "      <td>3.403453</td>\n",
       "      <td>3.462984</td>\n",
       "      <td>0.418487</td>\n",
       "      <td>20:15</td>\n",
       "    </tr>\n",
       "    <tr>\n",
       "      <td>1</td>\n",
       "      <td>3.407896</td>\n",
       "      <td>3.462101</td>\n",
       "      <td>0.418619</td>\n",
       "      <td>20:15</td>\n",
       "    </tr>\n",
       "    <tr>\n",
       "      <td>2</td>\n",
       "      <td>3.393677</td>\n",
       "      <td>3.461957</td>\n",
       "      <td>0.418614</td>\n",
       "      <td>20:15</td>\n",
       "    </tr>\n",
       "  </tbody>\n",
       "</table>"
      ],
      "text/plain": [
       "<IPython.core.display.HTML object>"
      ]
     },
     "metadata": {
      "tags": []
     },
     "output_type": "display_data"
    }
   ],
   "source": [
    "learn.fit_one_cycle(3,1e-6)\n",
    "learn.save('lm_3')"
   ]
  },
  {
   "cell_type": "code",
   "execution_count": 0,
   "metadata": {
    "colab": {
     "base_uri": "https://localhost:8080/",
     "height": 34
    },
    "colab_type": "code",
    "id": "8YJ5bWDoEiq3",
    "outputId": "2ba90398-002a-44eb-b1b6-8198796ec074"
   },
   "outputs": [
    {
     "data": {
      "text/plain": [
       "PosixPath('drive/My Drive/nlp/lm_3.pth')"
      ]
     },
     "execution_count": 39,
     "metadata": {
      "tags": []
     },
     "output_type": "execute_result"
    }
   ],
   "source": [
    "copyfile(p/'models/lm_3.pth', p/'drive/My Drive/nlp/lm_3.pth')"
   ]
  },
  {
   "cell_type": "code",
   "execution_count": 0,
   "metadata": {
    "colab": {
     "base_uri": "https://localhost:8080/",
     "height": 320
    },
    "colab_type": "code",
    "id": "rycDKBs3EO3h",
    "outputId": "6124fc9b-8c43-44d6-f738-1d54636fe60f"
   },
   "outputs": [
    {
     "data": {
      "text/html": [],
      "text/plain": [
       "<IPython.core.display.HTML object>"
      ]
     },
     "metadata": {
      "tags": []
     },
     "output_type": "display_data"
    },
    {
     "name": "stdout",
     "output_type": "stream",
     "text": [
      "LR Finder is complete, type {learner_name}.recorder.plot() to see the graph.\n"
     ]
    },
    {
     "data": {
      "image/png": "[encoded data removed]",
      "text/plain": [
       "<Figure size 432x288 with 1 Axes>"
      ]
     },
     "metadata": {
      "tags": []
     },
     "output_type": "display_data"
    }
   ],
   "source": [
    "learn.lr_find()\n",
    "learn.recorder.plot(skip_end=20)"
   ]
  },
  {
   "cell_type": "code",
   "execution_count": 0,
   "metadata": {
    "colab": {
     "base_uri": "https://localhost:8080/",
     "height": 283
    },
    "colab_type": "code",
    "id": "FZL_GzaIu4-b",
    "outputId": "1f6e273a-f119-4a23-a151-dd84ee6b1abf"
   },
   "outputs": [
    {
     "data": {
      "image/png": "[encoded data removed]",
      "text/plain": [
       "<Figure size 432x288 with 1 Axes>"
      ]
     },
     "metadata": {
      "tags": []
     },
     "output_type": "display_data"
    }
   ],
   "source": [
    "learn.recorder.plot(skip_end=50)"
   ]
  },
  {
   "cell_type": "code",
   "execution_count": 0,
   "metadata": {
    "colab": {
     "base_uri": "https://localhost:8080/",
     "height": 111
    },
    "colab_type": "code",
    "id": "o_yqr6xhrbNI",
    "outputId": "9914fe14-02af-4230-a51d-698ee48bdec8"
   },
   "outputs": [
    {
     "data": {
      "text/html": [
       "<table border=\"1\" class=\"dataframe\">\n",
       "  <thead>\n",
       "    <tr style=\"text-align: left;\">\n",
       "      <th>epoch</th>\n",
       "      <th>train_loss</th>\n",
       "      <th>valid_loss</th>\n",
       "      <th>accuracy</th>\n",
       "      <th>time</th>\n",
       "    </tr>\n",
       "  </thead>\n",
       "  <tbody>\n",
       "    <tr>\n",
       "      <td>0</td>\n",
       "      <td>3.394814</td>\n",
       "      <td>3.448826</td>\n",
       "      <td>0.419975</td>\n",
       "      <td>20:14</td>\n",
       "    </tr>\n",
       "    <tr>\n",
       "      <td>1</td>\n",
       "      <td>3.369779</td>\n",
       "      <td>3.442630</td>\n",
       "      <td>0.420546</td>\n",
       "      <td>20:15</td>\n",
       "    </tr>\n",
       "  </tbody>\n",
       "</table>"
      ],
      "text/plain": [
       "<IPython.core.display.HTML object>"
      ]
     },
     "metadata": {
      "tags": []
     },
     "output_type": "display_data"
    }
   ],
   "source": [
    "learn.fit_one_cycle(2,2e-05)"
   ]
  },
  {
   "cell_type": "code",
   "execution_count": 0,
   "metadata": {
    "colab": {},
    "colab_type": "code",
    "id": "SXjWHMc0XfFa"
   },
   "outputs": [],
   "source": [
    "learn.save('lm_4')\n"
   ]
  },
  {
   "cell_type": "code",
   "execution_count": 0,
   "metadata": {
    "colab": {
     "base_uri": "https://localhost:8080/",
     "height": 71
    },
    "colab_type": "code",
    "id": "zZdrrdGq5Chz",
    "outputId": "2730bf1a-68f6-44d1-d4e3-0aab8cc12db9"
   },
   "outputs": [
    {
     "name": "stdout",
     "output_type": "stream",
     "text": [
      "the man was killed in a Vehicle Bomb Month After Car Crashes After Car Crash The officer died . xxbos The Foundation To Invest In The Future\n",
      "the man was killed in Paris Attacks , Part 2 , of ISIS , a car bomb , and a bomb that hit a Russian car in Russia . It was believed that Syrian Army\n"
     ]
    }
   ],
   "source": [
    "print('\\n'.join(learn.predict('the man was killed',40,temperature=0.7) for _ in range(2)))"
   ]
  },
  {
   "cell_type": "markdown",
   "metadata": {
    "colab_type": "text",
    "id": "SgwQAMs6g9Wk"
   },
   "source": [
    "check our lang model learner \n",
    "no of words in predicted sentence=40\n",
    "temperature- (0-1) lower the value, less the randomness in predicted text\n",
    "we predict 2 sentences"
   ]
  },
  {
   "cell_type": "code",
   "execution_count": 0,
   "metadata": {
    "colab": {
     "base_uri": "https://localhost:8080/",
     "height": 34
    },
    "colab_type": "code",
    "id": "djie6v-SyuuR",
    "outputId": "ec694c33-c8a2-4eea-cfd9-49de9f77963e"
   },
   "outputs": [
    {
     "data": {
      "text/plain": [
       "PosixPath('drive/My Drive/nlp/lm_4.pth')"
      ]
     },
     "execution_count": 46,
     "metadata": {
      "tags": []
     },
     "output_type": "execute_result"
    }
   ],
   "source": [
    "copyfile(p/'models/lm_4.pth', p/'drive/My Drive/nlp/lm_4.pth')"
   ]
  },
  {
   "cell_type": "code",
   "execution_count": 0,
   "metadata": {
    "colab": {},
    "colab_type": "code",
    "id": "LyAaiIjcHy9a"
   },
   "outputs": [],
   "source": [
    "learn.save_encoder('fine_tuned_enc')"
   ]
  },
  {
   "cell_type": "markdown",
   "metadata": {
    "colab_type": "text",
    "id": "SplKm0f-iVJm"
   },
   "source": [
    "we save a *part* of the learner- the encoder whch converts the input into an intermediate state-- here we do not save the decoder-- which is tasked to create the output. We will use the encoded representation and use it for text classification."
   ]
  },
  {
   "cell_type": "code",
   "execution_count": 0,
   "metadata": {
    "colab": {
     "base_uri": "https://localhost:8080/",
     "height": 34
    },
    "colab_type": "code",
    "id": "kUds786F6DeS",
    "outputId": "8a5f9944-8d72-4017-b831-087858a6bbb6"
   },
   "outputs": [
    {
     "data": {
      "text/plain": [
       "PosixPath('drive/My Drive/nlp/fine_tuned_enc.pth')"
      ]
     },
     "execution_count": 49,
     "metadata": {
      "tags": []
     },
     "output_type": "execute_result"
    }
   ],
   "source": [
    "copyfile(p/'models/fine_tuned_enc.pth', p/'drive/My Drive/nlp/fine_tuned_enc.pth')"
   ]
  },
  {
   "cell_type": "code",
   "execution_count": 0,
   "metadata": {
    "colab": {},
    "colab_type": "code",
    "id": "i56loFAzvCy8"
   },
   "outputs": [],
   "source": [
    "data_clas=(TextList.from_df(df,cols=['text'],vocab=data_lm.vocab)\n",
    "          .split_by_rand_pct(0.1)\n",
    "          .label_from_df(cols=['category'])\n",
    "          .databunch())"
   ]
  },
  {
   "cell_type": "markdown",
   "metadata": {
    "colab_type": "text",
    "id": "f1YK-wz4haCE"
   },
   "source": [
    "this is the language classifier-- now we use only the df from the train dataset and vocab from data_lm \n",
    "validation set is chosen randomly 10% of data\n",
    "labels from the corr entry of 'category'\n",
    "\n"
   ]
  },
  {
   "cell_type": "code",
   "execution_count": 0,
   "metadata": {
    "colab": {},
    "colab_type": "code",
    "id": "eRLCDq-P7W0t"
   },
   "outputs": [],
   "source": [
    "data_clas.save('data_clas.pkl')"
   ]
  },
  {
   "cell_type": "code",
   "execution_count": 0,
   "metadata": {
    "colab": {
     "base_uri": "https://localhost:8080/",
     "height": 34
    },
    "colab_type": "code",
    "id": "2gEAu58Q7bn_",
    "outputId": "4269fd5f-5437-4e69-802d-c72600806c88"
   },
   "outputs": [
    {
     "data": {
      "text/plain": [
       "PosixPath('drive/My Drive/nlp/data_clas.pkl')"
      ]
     },
     "execution_count": 53,
     "metadata": {
      "tags": []
     },
     "output_type": "execute_result"
    }
   ],
   "source": [
    "copyfile('data_clas.pkl',p/'drive/My Drive/nlp/data_clas.pkl')"
   ]
  },
  {
   "cell_type": "code",
   "execution_count": 0,
   "metadata": {
    "colab": {
     "base_uri": "https://localhost:8080/",
     "height": 646
    },
    "colab_type": "code",
    "id": "LkL88LqJ74gS",
    "outputId": "690722dd-2534-4fe2-e889-e94b0fe98b60"
   },
   "outputs": [
    {
     "data": {
      "text/html": [
       "<table border=\"1\" class=\"dataframe\">\n",
       "  <thead>\n",
       "    <tr style=\"text-align: right;\">\n",
       "      <th>text</th>\n",
       "      <th>target</th>\n",
       "    </tr>\n",
       "  </thead>\n",
       "  <tbody>\n",
       "    <tr>\n",
       "      <td>xxbos xxmaj sunday xxmaj roundup xxmaj this week the nation came one step closer to giving itself over to the most dangerous and unstable potential leader in xxup u.s. history , as xxmaj donald xxmaj trump \" humbly \" accepted the xxmaj republican presidential nomination - so humbly , in fact , that he went on to claim that \" i alone can fix \" xxmaj america . xxmaj it</td>\n",
       "      <td>POLITICS</td>\n",
       "    </tr>\n",
       "    <tr>\n",
       "      <td>xxbos xxmaj weekend xxmaj roundup : xxmaj laughing at xxmaj god xxmaj the first principle of an open society is not to let the intolerant define \" the territory of insult \" -- those areas off limits to criticism or ridicule . xxmaj but how does one define \" territory \" when media now crosses the boundaries of nations , cultures and civilizations ? \\n \\n  xxmaj in the</td>\n",
       "      <td>WORLDPOST</td>\n",
       "    </tr>\n",
       "    <tr>\n",
       "      <td>xxbos xxmaj weekend xxmaj roundup : xxmaj is xxmaj europe xxmaj xxunk ? xxmaj europe is facing divisive challenges on all fronts . xxmaj it is being torn within by xxunk attitudes toward the growing presence not only of xxmaj muslim immigrants , but also of citizens . xxmaj on xxmaj monday , demonstrators xxunk the streets of xxmaj dresden in support of \" xxmaj patriotic xxmaj europeans xxmaj against</td>\n",
       "      <td>WORLDPOST</td>\n",
       "    </tr>\n",
       "    <tr>\n",
       "      <td>xxbos xxmaj sunday xxmaj roundup xxmaj this week , xxmaj ebola arrived in xxmaj new xxmaj york xxmaj city -- xxmaj america 's most crowded and most media - saturated metropolis . xxmaj so , as word spread on xxmaj thursday , so did the hysteria . xxmaj but thankfully , xxmaj ebola ( or \" xxmaj xxunk , \" as some xxunk it in honor of the infected doctor</td>\n",
       "      <td>POLITICS</td>\n",
       "    </tr>\n",
       "    <tr>\n",
       "      <td>xxbos xxmaj when xxmaj it xxmaj comes to xxmaj disney 's 101 xxmaj dalmatians , the ' de xxmaj vil ' xxmaj is in the xxmaj details xxmaj it was actually xxmaj marc xxmaj davis ' masterful work on the xxmaj mistress of xxmaj all xxmaj evil for xxmaj sleeping xxmaj beauty that led to his being assigned xxmaj cruella de xxmaj vil . xxmaj but given that 101 xxmaj</td>\n",
       "      <td>ENTERTAINMENT</td>\n",
       "    </tr>\n",
       "  </tbody>\n",
       "</table>"
      ],
      "text/plain": [
       "<IPython.core.display.HTML object>"
      ]
     },
     "metadata": {
      "tags": []
     },
     "output_type": "display_data"
    }
   ],
   "source": [
    "data_clas.show_batch() #data with labels and tokenized and numericalized"
   ]
  },
  {
   "cell_type": "code",
   "execution_count": 0,
   "metadata": {
    "colab": {},
    "colab_type": "code",
    "id": "k-q8Lhrr7_H7"
   },
   "outputs": [],
   "source": [
    "learn=text_classifier_learner(data_clas,AWD_LSTM,drop_mult=0.5)\n",
    "learn.load_encoder('fine_tuned_enc')"
   ]
  },
  {
   "cell_type": "markdown",
   "metadata": {
    "colab_type": "text",
    "id": "NTxxt-Q7h9nE"
   },
   "source": [
    "text classifier learner with lstm architecture\n"
   ]
  },
  {
   "cell_type": "code",
   "execution_count": 0,
   "metadata": {
    "colab": {
     "base_uri": "https://localhost:8080/",
     "height": 320
    },
    "colab_type": "code",
    "id": "HppfmWDm8SA7",
    "outputId": "0a4a1c03-7ea0-4282-c5ce-08fbbcef955e"
   },
   "outputs": [
    {
     "data": {
      "text/html": [],
      "text/plain": [
       "<IPython.core.display.HTML object>"
      ]
     },
     "metadata": {
      "tags": []
     },
     "output_type": "display_data"
    },
    {
     "name": "stdout",
     "output_type": "stream",
     "text": [
      "LR Finder is complete, type {learner_name}.recorder.plot() to see the graph.\n"
     ]
    },
    {
     "data": {
      "image/png": "[encoded data removed]",
      "text/plain": [
       "<Figure size 432x288 with 1 Axes>"
      ]
     },
     "metadata": {
      "tags": []
     },
     "output_type": "display_data"
    }
   ],
   "source": [
    "learn.lr_find()\n",
    "learn.recorder.plot()"
   ]
  },
  {
   "cell_type": "code",
   "execution_count": 0,
   "metadata": {
    "colab": {
     "base_uri": "https://localhost:8080/",
     "height": 80
    },
    "colab_type": "code",
    "id": "sITIzM248cnI",
    "outputId": "0f366908-f4fb-453c-b0ef-63270339e7e3"
   },
   "outputs": [
    {
     "data": {
      "text/html": [
       "<table border=\"1\" class=\"dataframe\">\n",
       "  <thead>\n",
       "    <tr style=\"text-align: left;\">\n",
       "      <th>epoch</th>\n",
       "      <th>train_loss</th>\n",
       "      <th>valid_loss</th>\n",
       "      <th>accuracy</th>\n",
       "      <th>time</th>\n",
       "    </tr>\n",
       "  </thead>\n",
       "  <tbody>\n",
       "    <tr>\n",
       "      <td>0</td>\n",
       "      <td>1.713065</td>\n",
       "      <td>1.390913</td>\n",
       "      <td>0.587858</td>\n",
       "      <td>04:59</td>\n",
       "    </tr>\n",
       "  </tbody>\n",
       "</table>"
      ],
      "text/plain": [
       "<IPython.core.display.HTML object>"
      ]
     },
     "metadata": {
      "tags": []
     },
     "output_type": "display_data"
    }
   ],
   "source": [
    "learn.fit_one_cycle(1,1e-2)"
   ]
  },
  {
   "cell_type": "code",
   "execution_count": 0,
   "metadata": {
    "colab": {},
    "colab_type": "code",
    "id": "mrz92aFp8mQ5"
   },
   "outputs": [],
   "source": [
    "learn.save('clas_1')"
   ]
  },
  {
   "cell_type": "code",
   "execution_count": 0,
   "metadata": {
    "colab": {
     "base_uri": "https://localhost:8080/",
     "height": 34
    },
    "colab_type": "code",
    "id": "q1v3bgEs8piP",
    "outputId": "dd920666-f07e-4ce8-941a-fcaa97fca604"
   },
   "outputs": [
    {
     "data": {
      "text/plain": [
       "PosixPath('drive/My Drive/nlp/clas_1.pth')"
      ]
     },
     "execution_count": 59,
     "metadata": {
      "tags": []
     },
     "output_type": "execute_result"
    }
   ],
   "source": [
    "copyfile(p/'models/clas_1.pth',p/'drive/My Drive/nlp/clas_1.pth')"
   ]
  },
  {
   "cell_type": "code",
   "execution_count": 0,
   "metadata": {
    "colab": {
     "base_uri": "https://localhost:8080/",
     "height": 320
    },
    "colab_type": "code",
    "id": "_HtHZ4qs8mA_",
    "outputId": "cdda4a24-c21d-4f2e-dabe-d4a40ad7b785"
   },
   "outputs": [
    {
     "data": {
      "text/html": [],
      "text/plain": [
       "<IPython.core.display.HTML object>"
      ]
     },
     "metadata": {
      "tags": []
     },
     "output_type": "display_data"
    },
    {
     "name": "stdout",
     "output_type": "stream",
     "text": [
      "LR Finder is complete, type {learner_name}.recorder.plot() to see the graph.\n"
     ]
    },
    {
     "data": {
      "image/png": "[encoded data removed]",
      "text/plain": [
       "<Figure size 432x288 with 1 Axes>"
      ]
     },
     "metadata": {
      "tags": []
     },
     "output_type": "display_data"
    }
   ],
   "source": [
    "learn.lr_find()\n",
    "learn.recorder.plot()"
   ]
  },
  {
   "cell_type": "code",
   "execution_count": 0,
   "metadata": {
    "colab": {
     "base_uri": "https://localhost:8080/",
     "height": 283
    },
    "colab_type": "code",
    "id": "SWAsDAV098HN",
    "outputId": "9d48e70f-3b7f-4b28-e609-049c5612bb41"
   },
   "outputs": [
    {
     "data": {
      "image/png": "[encoded data removed]",
      "text/plain": [
       "<Figure size 432x288 with 1 Axes>"
      ]
     },
     "metadata": {
      "tags": []
     },
     "output_type": "display_data"
    }
   ],
   "source": [
    "learn.recorder.plot(skip_end=15)"
   ]
  },
  {
   "cell_type": "code",
   "execution_count": 0,
   "metadata": {
    "colab": {
     "base_uri": "https://localhost:8080/",
     "height": 204
    },
    "colab_type": "code",
    "id": "nbSUDII3-EXY",
    "outputId": "a10c27e4-2cbb-43c2-b3ba-58360ecd8292"
   },
   "outputs": [
    {
     "data": {
      "text/html": [
       "<table border=\"1\" class=\"dataframe\">\n",
       "  <thead>\n",
       "    <tr style=\"text-align: left;\">\n",
       "      <th>epoch</th>\n",
       "      <th>train_loss</th>\n",
       "      <th>valid_loss</th>\n",
       "      <th>accuracy</th>\n",
       "      <th>time</th>\n",
       "    </tr>\n",
       "  </thead>\n",
       "  <tbody>\n",
       "    <tr>\n",
       "      <td>0</td>\n",
       "      <td>1.648595</td>\n",
       "      <td>1.382284</td>\n",
       "      <td>0.590858</td>\n",
       "      <td>06:05</td>\n",
       "    </tr>\n",
       "    <tr>\n",
       "      <td>1</td>\n",
       "      <td>1.705804</td>\n",
       "      <td>1.381347</td>\n",
       "      <td>0.590564</td>\n",
       "      <td>06:01</td>\n",
       "    </tr>\n",
       "    <tr>\n",
       "      <td>2</td>\n",
       "      <td>1.675522</td>\n",
       "      <td>1.384200</td>\n",
       "      <td>0.593270</td>\n",
       "      <td>06:03</td>\n",
       "    </tr>\n",
       "    <tr>\n",
       "      <td>3</td>\n",
       "      <td>1.634181</td>\n",
       "      <td>1.385272</td>\n",
       "      <td>0.592211</td>\n",
       "      <td>05:42</td>\n",
       "    </tr>\n",
       "    <tr>\n",
       "      <td>4</td>\n",
       "      <td>1.650918</td>\n",
       "      <td>1.382412</td>\n",
       "      <td>0.592211</td>\n",
       "      <td>05:39</td>\n",
       "    </tr>\n",
       "  </tbody>\n",
       "</table>"
      ],
      "text/plain": [
       "<IPython.core.display.HTML object>"
      ]
     },
     "metadata": {
      "tags": []
     },
     "output_type": "display_data"
    }
   ],
   "source": [
    "learn.freeze_to(-2)# freeze last 2 layers-- helps with text classification\n",
    "learn.fit_one_cycle(5,slice((3e-6)/2.6**4,3e-6))"
   ]
  },
  {
   "cell_type": "code",
   "execution_count": 0,
   "metadata": {
    "colab": {},
    "colab_type": "code",
    "id": "yEFNuVWuFaHI"
   },
   "outputs": [],
   "source": [
    "learn.save(\"clas_2\")"
   ]
  },
  {
   "cell_type": "code",
   "execution_count": 0,
   "metadata": {
    "colab": {
     "base_uri": "https://localhost:8080/",
     "height": 34
    },
    "colab_type": "code",
    "id": "Av5hgrtYFkPu",
    "outputId": "6fd96351-a184-4469-caba-bf7e6589ebcb"
   },
   "outputs": [
    {
     "data": {
      "text/plain": [
       "PosixPath('drive/My Drive/nlp/clas_2.pth')"
      ]
     },
     "execution_count": 64,
     "metadata": {
      "tags": []
     },
     "output_type": "execute_result"
    }
   ],
   "source": [
    "copyfile(p/'models/clas_2.pth',p/'drive/My Drive/nlp/clas_2.pth')"
   ]
  },
  {
   "cell_type": "code",
   "execution_count": 0,
   "metadata": {
    "colab": {
     "base_uri": "https://localhost:8080/",
     "height": 320
    },
    "colab_type": "code",
    "id": "cheRB_l8Ft8M",
    "outputId": "f3459d5a-70a4-41ab-8309-5fd0c5663eda"
   },
   "outputs": [
    {
     "data": {
      "text/html": [],
      "text/plain": [
       "<IPython.core.display.HTML object>"
      ]
     },
     "metadata": {
      "tags": []
     },
     "output_type": "display_data"
    },
    {
     "name": "stdout",
     "output_type": "stream",
     "text": [
      "LR Finder is complete, type {learner_name}.recorder.plot() to see the graph.\n"
     ]
    },
    {
     "data": {
      "image/png": "[encoded data removed]",
      "text/plain": [
       "<Figure size 432x288 with 1 Axes>"
      ]
     },
     "metadata": {
      "tags": []
     },
     "output_type": "display_data"
    }
   ],
   "source": [
    "learn.unfreeze()\n",
    "learn.lr_find()\n",
    "learn.recorder.plot()"
   ]
  },
  {
   "cell_type": "code",
   "execution_count": 0,
   "metadata": {
    "colab": {
     "base_uri": "https://localhost:8080/",
     "height": 283
    },
    "colab_type": "code",
    "id": "9tq3bpFoH48w",
    "outputId": "66740f20-1c16-4fb6-c5ed-0c5842026599"
   },
   "outputs": [
    {
     "data": {
      "image/png": "[encoded data removed]",
      "text/plain": [
       "<Figure size 432x288 with 1 Axes>"
      ]
     },
     "metadata": {
      "tags": []
     },
     "output_type": "display_data"
    }
   ],
   "source": [
    "learn.recorder.plot(skip_end=20)"
   ]
  },
  {
   "cell_type": "code",
   "execution_count": 0,
   "metadata": {
    "colab": {
     "base_uri": "https://localhost:8080/",
     "height": 142
    },
    "colab_type": "code",
    "id": "sfETQH-4IAbZ",
    "outputId": "b0b0e2b1-6a90-46ab-cd1f-f5cb141ccad9"
   },
   "outputs": [
    {
     "data": {
      "text/html": [
       "<table border=\"1\" class=\"dataframe\">\n",
       "  <thead>\n",
       "    <tr style=\"text-align: left;\">\n",
       "      <th>epoch</th>\n",
       "      <th>train_loss</th>\n",
       "      <th>valid_loss</th>\n",
       "      <th>accuracy</th>\n",
       "      <th>time</th>\n",
       "    </tr>\n",
       "  </thead>\n",
       "  <tbody>\n",
       "    <tr>\n",
       "      <td>0</td>\n",
       "      <td>1.581368</td>\n",
       "      <td>1.333767</td>\n",
       "      <td>0.605447</td>\n",
       "      <td>11:59</td>\n",
       "    </tr>\n",
       "    <tr>\n",
       "      <td>1</td>\n",
       "      <td>1.531741</td>\n",
       "      <td>1.296433</td>\n",
       "      <td>0.620684</td>\n",
       "      <td>11:48</td>\n",
       "    </tr>\n",
       "    <tr>\n",
       "      <td>2</td>\n",
       "      <td>1.500785</td>\n",
       "      <td>1.285365</td>\n",
       "      <td>0.623448</td>\n",
       "      <td>13:19</td>\n",
       "    </tr>\n",
       "  </tbody>\n",
       "</table>"
      ],
      "text/plain": [
       "<IPython.core.display.HTML object>"
      ]
     },
     "metadata": {
      "tags": []
     },
     "output_type": "display_data"
    }
   ],
   "source": [
    "learn.fit_one_cycle(3,slice(1e-4/(2.6**4),1e-4),moms=(0.8,0.7)) #momentums=moms-decreased from normal"
   ]
  },
  {
   "cell_type": "code",
   "execution_count": 0,
   "metadata": {
    "colab": {},
    "colab_type": "code",
    "id": "8Qmv6xbQQ2Pv"
   },
   "outputs": [],
   "source": [
    "learn.save('clas_3')"
   ]
  },
  {
   "cell_type": "code",
   "execution_count": 0,
   "metadata": {
    "colab": {
     "base_uri": "https://localhost:8080/",
     "height": 34
    },
    "colab_type": "code",
    "id": "VkpQbrjGQ7Sx",
    "outputId": "b216bb8e-8753-4b99-d28e-a6a62714f1c3"
   },
   "outputs": [
    {
     "data": {
      "text/plain": [
       "PosixPath('drive/My Drive/nlp/clas_3.pth')"
      ]
     },
     "execution_count": 69,
     "metadata": {
      "tags": []
     },
     "output_type": "execute_result"
    }
   ],
   "source": [
    "copyfile(p/'models/clas_3.pth',p/'drive/My Drive/nlp/clas_3.pth')"
   ]
  },
  {
   "cell_type": "code",
   "execution_count": 0,
   "metadata": {
    "colab": {
     "base_uri": "https://localhost:8080/",
     "height": 320
    },
    "colab_type": "code",
    "id": "SmMQtSrMQ_6z",
    "outputId": "ed9fd23b-6dfd-4c39-de6c-1a769d3b6d7d"
   },
   "outputs": [
    {
     "data": {
      "text/html": [],
      "text/plain": [
       "<IPython.core.display.HTML object>"
      ]
     },
     "metadata": {
      "tags": []
     },
     "output_type": "display_data"
    },
    {
     "name": "stdout",
     "output_type": "stream",
     "text": [
      "LR Finder is complete, type {learner_name}.recorder.plot() to see the graph.\n"
     ]
    },
    {
     "data": {
      "image/png": "[encoded data removed]",
      "text/plain": [
       "<Figure size 432x288 with 1 Axes>"
      ]
     },
     "metadata": {
      "tags": []
     },
     "output_type": "display_data"
    }
   ],
   "source": [
    "learn.lr_find()\n",
    "learn.recorder.plot()"
   ]
  },
  {
   "cell_type": "code",
   "execution_count": 0,
   "metadata": {
    "colab": {
     "base_uri": "https://localhost:8080/",
     "height": 283
    },
    "colab_type": "code",
    "id": "SqcOuikrRYfb",
    "outputId": "425104da-b659-42c4-af1d-e39ca01088fb"
   },
   "outputs": [
    {
     "data": {
      "image/png": "[encoded data removed]",
      "text/plain": [
       "<Figure size 432x288 with 1 Axes>"
      ]
     },
     "metadata": {
      "tags": []
     },
     "output_type": "display_data"
    }
   ],
   "source": [
    "learn.recorder.plot(skip_end=15)"
   ]
  },
  {
   "cell_type": "code",
   "execution_count": 0,
   "metadata": {
    "colab": {
     "base_uri": "https://localhost:8080/",
     "height": 142
    },
    "colab_type": "code",
    "id": "hNzl_un0Rfms",
    "outputId": "0bef04d3-69c2-4347-a01b-851e89ae63da"
   },
   "outputs": [
    {
     "data": {
      "text/html": [
       "<table border=\"1\" class=\"dataframe\">\n",
       "  <thead>\n",
       "    <tr style=\"text-align: left;\">\n",
       "      <th>epoch</th>\n",
       "      <th>train_loss</th>\n",
       "      <th>valid_loss</th>\n",
       "      <th>accuracy</th>\n",
       "      <th>time</th>\n",
       "    </tr>\n",
       "  </thead>\n",
       "  <tbody>\n",
       "    <tr>\n",
       "      <td>0</td>\n",
       "      <td>1.482066</td>\n",
       "      <td>1.266810</td>\n",
       "      <td>0.629331</td>\n",
       "      <td>12:27</td>\n",
       "    </tr>\n",
       "    <tr>\n",
       "      <td>1</td>\n",
       "      <td>1.442886</td>\n",
       "      <td>1.241715</td>\n",
       "      <td>0.635449</td>\n",
       "      <td>12:33</td>\n",
       "    </tr>\n",
       "    <tr>\n",
       "      <td>2</td>\n",
       "      <td>1.436373</td>\n",
       "      <td>1.240766</td>\n",
       "      <td>0.636155</td>\n",
       "      <td>13:05</td>\n",
       "    </tr>\n",
       "  </tbody>\n",
       "</table>"
      ],
      "text/plain": [
       "<IPython.core.display.HTML object>"
      ]
     },
     "metadata": {
      "tags": []
     },
     "output_type": "display_data"
    }
   ],
   "source": [
    "learn.fit_one_cycle(3,slice(1e-4/(2.6**4),1e-4),moms=(0.8,0.7))"
   ]
  },
  {
   "cell_type": "code",
   "execution_count": 0,
   "metadata": {
    "colab": {},
    "colab_type": "code",
    "id": "jieZUSNPXYiH"
   },
   "outputs": [],
   "source": [
    "learn.save('clas_4')"
   ]
  },
  {
   "cell_type": "code",
   "execution_count": 0,
   "metadata": {
    "colab": {
     "base_uri": "https://localhost:8080/",
     "height": 34
    },
    "colab_type": "code",
    "id": "MXvt8m8qXbxX",
    "outputId": "769d0034-e4ae-4cb5-a0fd-b59046d4f97f"
   },
   "outputs": [
    {
     "data": {
      "text/plain": [
       "PosixPath('drive/My Drive/nlp/clas_4.pth')"
      ]
     },
     "execution_count": 74,
     "metadata": {
      "tags": []
     },
     "output_type": "execute_result"
    }
   ],
   "source": [
    "copyfile(p/'models/clas_4.pth',p/'drive/My Drive/nlp/clas_4.pth')"
   ]
  },
  {
   "cell_type": "code",
   "execution_count": 0,
   "metadata": {
    "colab": {
     "base_uri": "https://localhost:8080/",
     "height": 320
    },
    "colab_type": "code",
    "id": "pGkZ4nAUcEB0",
    "outputId": "417ed774-84d7-4004-f625-8cd4f08cfc3d"
   },
   "outputs": [
    {
     "data": {
      "text/html": [],
      "text/plain": [
       "<IPython.core.display.HTML object>"
      ]
     },
     "metadata": {
      "tags": []
     },
     "output_type": "display_data"
    },
    {
     "name": "stdout",
     "output_type": "stream",
     "text": [
      "LR Finder is complete, type {learner_name}.recorder.plot() to see the graph.\n"
     ]
    },
    {
     "data": {
      "image/png": "[encoded data removed]",
      "text/plain": [
       "<Figure size 432x288 with 1 Axes>"
      ]
     },
     "metadata": {
      "tags": []
     },
     "output_type": "display_data"
    }
   ],
   "source": [
    "learn.lr_find()\n",
    "learn.recorder.plot(skip_end=15)"
   ]
  },
  {
   "cell_type": "code",
   "execution_count": 0,
   "metadata": {
    "colab": {
     "base_uri": "https://localhost:8080/",
     "height": 283
    },
    "colab_type": "code",
    "id": "lLD8pcGGc422",
    "outputId": "adbbebc4-b126-4606-9dc5-2afab97f61e9"
   },
   "outputs": [
    {
     "data": {
      "image/png": "[encoded data removed]",
      "text/plain": [
       "<Figure size 432x288 with 1 Axes>"
      ]
     },
     "metadata": {
      "tags": []
     },
     "output_type": "display_data"
    }
   ],
   "source": [
    "learn.recorder.plot(skip_end=40)"
   ]
  },
  {
   "cell_type": "code",
   "execution_count": 0,
   "metadata": {
    "colab": {
     "base_uri": "https://localhost:8080/",
     "height": 111
    },
    "colab_type": "code",
    "id": "nHuJpzv1dJtG",
    "outputId": "d400f021-2957-41a8-92a1-ba68aeecc3b4"
   },
   "outputs": [
    {
     "data": {
      "text/html": [
       "<table border=\"1\" class=\"dataframe\">\n",
       "  <thead>\n",
       "    <tr style=\"text-align: left;\">\n",
       "      <th>epoch</th>\n",
       "      <th>train_loss</th>\n",
       "      <th>valid_loss</th>\n",
       "      <th>accuracy</th>\n",
       "      <th>time</th>\n",
       "    </tr>\n",
       "  </thead>\n",
       "  <tbody>\n",
       "    <tr>\n",
       "      <td>0</td>\n",
       "      <td>1.436487</td>\n",
       "      <td>1.237910</td>\n",
       "      <td>0.636449</td>\n",
       "      <td>12:56</td>\n",
       "    </tr>\n",
       "    <tr>\n",
       "      <td>1</td>\n",
       "      <td>1.402370</td>\n",
       "      <td>1.236752</td>\n",
       "      <td>0.637390</td>\n",
       "      <td>13:31</td>\n",
       "    </tr>\n",
       "  </tbody>\n",
       "</table>"
      ],
      "text/plain": [
       "<IPython.core.display.HTML object>"
      ]
     },
     "metadata": {
      "tags": []
     },
     "output_type": "display_data"
    }
   ],
   "source": [
    "learn.fit_one_cycle(2,slice(5e-6/2.6**4,5e-6),moms=(0.8,0.7))"
   ]
  },
  {
   "cell_type": "code",
   "execution_count": 0,
   "metadata": {
    "colab": {},
    "colab_type": "code",
    "id": "rAPLLuh8jhO7"
   },
   "outputs": [],
   "source": [
    "learn.save('clas_5')"
   ]
  },
  {
   "cell_type": "code",
   "execution_count": 0,
   "metadata": {
    "colab": {
     "base_uri": "https://localhost:8080/",
     "height": 34
    },
    "colab_type": "code",
    "id": "uOXZbjSJjkh0",
    "outputId": "ab9bfb69-5dee-4d14-a5eb-4e78bbd1c040"
   },
   "outputs": [
    {
     "data": {
      "text/plain": [
       "PosixPath('drive/My Drive/nlp/clas_5.pth')"
      ]
     },
     "execution_count": 79,
     "metadata": {
      "tags": []
     },
     "output_type": "execute_result"
    }
   ],
   "source": [
    "copyfile(p/'models/clas_5.pth',p/'drive/My Drive/nlp/clas_5.pth')"
   ]
  },
  {
   "cell_type": "code",
   "execution_count": 0,
   "metadata": {
    "colab": {},
    "colab_type": "code",
    "id": "CaLfrHgpj6Qo"
   },
   "outputs": [],
   "source": []
  },
  {
   "cell_type": "code",
   "execution_count": 0,
   "metadata": {
    "colab": {
     "base_uri": "https://localhost:8080/",
     "height": 34
    },
    "colab_type": "code",
    "id": "ZTMKQCfDjrpF",
    "outputId": "527048e5-a822-41cb-c16f-383c0ec60dde"
   },
   "outputs": [
    {
     "data": {
      "text/plain": [
       "'PARENTS'"
      ]
     },
     "execution_count": 96,
     "metadata": {
      "tags": []
     },
     "output_type": "execute_result"
    }
   ],
   "source": [
    "pred=(learn.predict(dftst['text'][0])[0])\n",
    "str(pred)"
   ]
  },
  {
   "cell_type": "code",
   "execution_count": 0,
   "metadata": {
    "colab": {},
    "colab_type": "code",
    "id": "FSEZ5ArulJvx"
   },
   "outputs": [],
   "source": [
    "res=open(p/'drive/My Drive/nlp/res.txt','a+')"
   ]
  },
  {
   "cell_type": "code",
   "execution_count": 0,
   "metadata": {
    "colab": {},
    "colab_type": "code",
    "id": "EueYUxorlVtS"
   },
   "outputs": [],
   "source": [
    "t=0\n",
    "for i in dftst['text']:\n",
    "  catg=learn.predict(i)[0]\n",
    "  res.write(str(t)+','+str(catg))\n",
    "  t+=1"
   ]
  },
  {
   "cell_type": "code",
   "execution_count": 0,
   "metadata": {
    "colab": {},
    "colab_type": "code",
    "id": "5ElDB4rrpGty"
   },
   "outputs": [],
   "source": [
    "res.close()"
   ]
  }
 ],
 "metadata": {
  "accelerator": "GPU",
  "colab": {
   "collapsed_sections": [],
   "name": "news_classify.ipynb",
   "provenance": [],
   "version": "0.3.2"
  },
  "kernelspec": {
   "display_name": "Python 3",
   "language": "python",
   "name": "python3"
  },
  "language_info": {
   "codemirror_mode": {
    "name": "ipython",
    "version": 3
   },
   "file_extension": ".py",
   "mimetype": "text/x-python",
   "name": "python",
   "nbconvert_exporter": "python",
   "pygments_lexer": "ipython3",
   "version": "3.7.2"
  }
 },
 "nbformat": 4,
 "nbformat_minor": 1
}
